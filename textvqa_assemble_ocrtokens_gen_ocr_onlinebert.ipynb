{
 "cells": [
  {
   "cell_type": "code",
   "execution_count": 1,
   "metadata": {},
   "outputs": [],
   "source": [
    "import json\n",
    "import numpy as np"
   ]
  },
  {
   "cell_type": "code",
   "execution_count": 2,
   "metadata": {},
   "outputs": [],
   "source": [
    "import progressbar\n",
    "from bert_serving.client import BertClient\n",
    "bc = BertClient(ip='10.15.82.136')"
   ]
  },
  {
   "cell_type": "code",
   "execution_count": 3,
   "metadata": {},
   "outputs": [],
   "source": [
    "root_folder = '/home/lyt/code/vqa-concept'\n",
    "data_folder = '{}/dataTVQA'.format(root_folder)\n",
    "fea_folder = '{}/image-feature/bottomup'.format(data_folder)\n",
    "emb_size = 768\n",
    "ocr_num = 50"
   ]
  },
  {
   "cell_type": "code",
   "execution_count": 5,
   "metadata": {},
   "outputs": [],
   "source": [
    "#======================================="
   ]
  },
  {
   "cell_type": "code",
   "execution_count": 6,
   "metadata": {},
   "outputs": [
    {
     "name": "stdout",
     "output_type": "stream",
     "text": [
      "dict_keys(['dataset_type', 'dataset_name', 'dataset_version', 'data'])\n"
     ]
    }
   ],
   "source": [
    "split_name = 'test'\n",
    "jsdata = json.load(open('{}/TextVQA_0.5_{}.json'.format(data_folder, split_name),'r'))\n",
    "print(jsdata.keys())"
   ]
  },
  {
   "cell_type": "code",
   "execution_count": 7,
   "metadata": {},
   "outputs": [],
   "source": [
    "ocr_asse_file = '{}/ocr_assemble_{}.npy'.format(data_folder, split_name)\n",
    "ocr_assemble = np.load(ocr_asse_file)"
   ]
  },
  {
   "cell_type": "code",
   "execution_count": 8,
   "metadata": {},
   "outputs": [
    {
     "name": "stdout",
     "output_type": "stream",
     "text": [
      "(5734,)\n"
     ]
    }
   ],
   "source": [
    "print(ocr_assemble.shape)"
   ]
  },
  {
   "cell_type": "code",
   "execution_count": 9,
   "metadata": {},
   "outputs": [
    {
     "name": "stdout",
     "output_type": "stream",
     "text": [
      "5734 <class 'list'>\n"
     ]
    }
   ],
   "source": [
    "data = jsdata['data']\n",
    "print(len(data),type(data))"
   ]
  },
  {
   "cell_type": "code",
   "execution_count": 10,
   "metadata": {},
   "outputs": [
    {
     "name": "stdout",
     "output_type": "stream",
     "text": [
      "['NOKIA', 'E71', 'nOperator', '3006.2000', '12)', 'Lnร', 'Busanes', 'report', 'મ.mal()', 'eeling', 'network', 'fวอed', '*4ে', '()', '12) Busanes', 'Lnร Busanes', 'Busanes report', 'network fวอed']\n",
      "['NOKIA', 'E71', 'nOperator', '3006.2000', '12)', 'Lnร', 'Busanes', 'report', 'મ.mal()', 'eeling', 'network', 'fวอed', '*4ে', '()', '12) Busanes', 'Lnร Busanes', 'Busanes report', 'network fวอed']\n"
     ]
    }
   ],
   "source": [
    "for i, pair in enumerate(data):\n",
    "    pair['ocr_tokens'] = ocr_assemble[i]"
   ]
  },
  {
   "cell_type": "code",
   "execution_count": 11,
   "metadata": {
    "scrolled": false
   },
   "outputs": [],
   "source": [
    "json.dump(jsdata, open('{}/TextVQA_0.5_{}.assemble.json'.format(data_folder, split_name),'w'))"
   ]
  },
  {
   "cell_type": "code",
   "execution_count": 12,
   "metadata": {},
   "outputs": [],
   "source": [
    "#------save im_id:ocr_information------"
   ]
  },
  {
   "cell_type": "code",
   "execution_count": 13,
   "metadata": {},
   "outputs": [],
   "source": [
    "im_ocr = {}\n",
    "for pair in data:\n",
    "    im_id = pair['image_id']\n",
    "    if im_id not in im_ocr:\n",
    "        im_ocr[im_id] = {'image_classes': pair['image_classes'],\n",
    "                         'image_width': pair['image_width'],\n",
    "                         'image_height': pair['image_height'],\n",
    "                         'ocr_tokens': pair['ocr_tokens'],\n",
    "                         'ocr_info': pair['ocr_info']}\n",
    "#json.dump(im_ocr, open('{}/ocr_{}.json'.format(data_folder, split_name),'w'))"
   ]
  },
  {
   "cell_type": "code",
   "execution_count": 14,
   "metadata": {},
   "outputs": [
    {
     "name": "stdout",
     "output_type": "stream",
     "text": [
      "3289\n"
     ]
    }
   ],
   "source": [
    "print(len(im_ocr))"
   ]
  },
  {
   "cell_type": "code",
   "execution_count": 15,
   "metadata": {},
   "outputs": [
    {
     "name": "stdout",
     "output_type": "stream",
     "text": [
      "(3289,)\n"
     ]
    }
   ],
   "source": [
    "im_ids = np.load('{}/{}_100_id.npy'.format(fea_folder, split_name))\n",
    "print(im_ids.shape)"
   ]
  },
  {
   "cell_type": "code",
   "execution_count": 16,
   "metadata": {
    "scrolled": false
   },
   "outputs": [
    {
     "name": "stderr",
     "output_type": "stream",
     "text": [
      "100% (3289 of 3289) |#####################| Elapsed Time: 0:00:55 Time: 0:00:55\n"
     ]
    }
   ],
   "source": [
    "#ocr_emb = np.random.randn(im_ids.shape[0], ocr_num, emb_size).astype('float32')\n",
    "#ocr_emb = (ocr_emb + mean) * std\n",
    "ocr_emb = np.zeros((im_ids.shape[0], ocr_num, emb_size), dtype='float32')\n",
    "bar = progressbar.ProgressBar(max_value=im_ids.shape[0]).start()\n",
    "for i,imid in enumerate(im_ids):\n",
    "    bar.update(i+1)\n",
    "    all_ocr = im_ocr[imid]['ocr_tokens']\n",
    "    all_ocr = [ocr.strip().lower() for ocr in all_ocr]\n",
    "    all_ocr = [ocr for ocr in all_ocr if ocr != '']\n",
    "    num = min(ocr_num,len(all_ocr))\n",
    "    if num == 0:\n",
    "        continue\n",
    "    ocr_list = [all_ocr[j] for j in range(num)]\n",
    "    curr_embs = bc.encode(ocr_list)\n",
    "    ocr_emb[i][:num] = curr_embs\n",
    "bar.finish()"
   ]
  },
  {
   "cell_type": "code",
   "execution_count": 17,
   "metadata": {},
   "outputs": [
    {
     "data": {
      "text/plain": [
       "(3289, 50, 768)"
      ]
     },
     "execution_count": 17,
     "metadata": {},
     "output_type": "execute_result"
    }
   ],
   "source": [
    "ocr_emb.shape"
   ]
  },
  {
   "cell_type": "code",
   "execution_count": 18,
   "metadata": {},
   "outputs": [],
   "source": [
    "np.save('{}/ocr_bert.new.{}/{}_{}_ocr.assemble.0init.npy'.format(fea_folder, emb_size, split_name, ocr_num), ocr_emb)"
   ]
  },
  {
   "cell_type": "code",
   "execution_count": 19,
   "metadata": {},
   "outputs": [],
   "source": [
    "#======================================="
   ]
  },
  {
   "cell_type": "code",
   "execution_count": 20,
   "metadata": {},
   "outputs": [],
   "source": [
    "bc.close()"
   ]
  }
 ],
 "metadata": {
  "kernelspec": {
   "display_name": "Python 3",
   "language": "python",
   "name": "python3"
  },
  "language_info": {
   "codemirror_mode": {
    "name": "ipython",
    "version": 3
   },
   "file_extension": ".py",
   "mimetype": "text/x-python",
   "name": "python",
   "nbconvert_exporter": "python",
   "pygments_lexer": "ipython3",
   "version": "3.6.8"
  }
 },
 "nbformat": 4,
 "nbformat_minor": 2
}
