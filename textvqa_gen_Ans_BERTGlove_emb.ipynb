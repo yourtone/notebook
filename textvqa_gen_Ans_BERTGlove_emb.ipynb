{
 "cells": [
  {
   "cell_type": "code",
   "execution_count": 1,
   "metadata": {},
   "outputs": [],
   "source": [
    "import json\n",
    "import numpy as np\n",
    "import os\n",
    "from config import cfg, get_emb\n",
    "import progressbar"
   ]
  },
  {
   "cell_type": "code",
   "execution_count": 2,
   "metadata": {},
   "outputs": [],
   "source": [
    "emb_size = 300\n",
    "w2v_name = 'Glove' # 'BERT' # "
   ]
  },
  {
   "cell_type": "code",
   "execution_count": 3,
   "metadata": {},
   "outputs": [],
   "source": [
    "if w2v_name == 'BERT':\n",
    "    emb_file = '{}/word-embedding/bert.PCA.300d.txt'.format(cfg.DATA_DIR)\n",
    "elif w2v_name == 'Glove':\n",
    "    emb_file = '{}/word-embedding/glove.6B.300d.txt'.format(cfg.DATA_DIR)\n",
    "emb_dict, mean, std = get_emb(emb_file, emb_size)"
   ]
  },
  {
   "cell_type": "code",
   "execution_count": 4,
   "metadata": {},
   "outputs": [],
   "source": [
    "split = 'TVA' # train on Tr; test on Val\n",
    "# split = 'TVEA' # train on Tr+Val; test on Te\n",
    "\n",
    "# suffix = '' # ocr_bert_DR\n",
    "# suffix = '.0init' # ocr_bert_DR.0init\n",
    "# suffix = '.clean.0init' # ocr_bert_DR.clean.0init\n",
    "# suffix = '.assemble.0init'\n",
    "#=======================================\n",
    "suffix = ''\n",
    "zeroInit = True # True for 0 init; False for random init\n",
    "if zeroInit:\n",
    "    suffix += '.0init'"
   ]
  },
  {
   "cell_type": "code",
   "execution_count": 5,
   "metadata": {},
   "outputs": [
    {
     "name": "stdout",
     "output_type": "stream",
     "text": [
      "dict_keys(['itoa', 'itow'])\n",
      "index:(20), content:()\n"
     ]
    }
   ],
   "source": [
    "jsdict = json.load(open('{}/data.json'.format(cfg.DATA_DIR),'r'))\n",
    "print(jsdict.keys())\n",
    "itoa = jsdict['itoa']\n",
    "removeIdx = -1\n",
    "for i,a in enumerate(itoa):\n",
    "    if a == '':\n",
    "        print('index:({}), content:({})'.format(i,a))\n",
    "        itoa[i] = '<blank>'\n",
    "        removeIdx = i"
   ]
  },
  {
   "cell_type": "code",
   "execution_count": 6,
   "metadata": {},
   "outputs": [
    {
     "name": "stdout",
     "output_type": "stream",
     "text": [
      "(8205, 300)\n"
     ]
    }
   ],
   "source": [
    "if zeroInit:\n",
    "    ans_emb = np.zeros((len(itoa), emb_size), dtype='float32')\n",
    "else:\n",
    "    ans_emb = np.random.randn(len(itoa), emb_size).astype('float32')\n",
    "    ans_emb = (ans_emb + mean) * std\n",
    "print(ans_emb.shape)"
   ]
  },
  {
   "cell_type": "code",
   "execution_count": 7,
   "metadata": {},
   "outputs": [
    {
     "name": "stderr",
     "output_type": "stream",
     "text": [
      "100% (8205 of 8205) |####################| Elapsed Time: 0:00:00 Time:  0:00:00\n"
     ]
    },
    {
     "name": "stdout",
     "output_type": "stream",
     "text": [
      "fill embedding: 7417/8205\n"
     ]
    }
   ],
   "source": [
    "bar = progressbar.ProgressBar(max_value=len(itoa)).start()\n",
    "fill_cnt = 0\n",
    "for i,ans in enumerate(itoa):\n",
    "    bar.update(i+1)\n",
    "    words = ans.split()\n",
    "    act = 0\n",
    "    emb = np.zeros((emb_size,), dtype='float32')\n",
    "    for w in words:\n",
    "        if w in emb_dict:\n",
    "            act += 1\n",
    "            emb += emb_dict[w]\n",
    "    if act > 0:\n",
    "        emb /= act\n",
    "        ans_emb[i] = emb\n",
    "        fill_cnt += 1\n",
    "bar.finish()\n",
    "print('fill embedding: {}/{}'.format(fill_cnt, len(itoa)))"
   ]
  },
  {
   "cell_type": "code",
   "execution_count": 8,
   "metadata": {},
   "outputs": [
    {
     "name": "stdout",
     "output_type": "stream",
     "text": [
      "[Save] save path: /home/lyt/code/concept_vqa/dataTVQA/image-feature/ocr/glove.300.0init/TVA/ans_emb.npy\n"
     ]
    }
   ],
   "source": [
    "if w2v_name == 'BERT':\n",
    "    save_folder = '{}/bertOld.{}{}/{}'.format(cfg.OCR_DIR, emb_size, suffix, split)\n",
    "elif w2v_name == 'Glove':\n",
    "    save_folder = '{}/glove.{}{}/{}'.format(cfg.OCR_DIR, emb_size, suffix, split)\n",
    "save_path = '{}/ans_emb.npy'.format(save_folder)\n",
    "print('[Save] save path: {}'.format(save_path))\n",
    "if not os.path.isdir(save_folder):\n",
    "    os.makedirs(save_folder)\n",
    "np.save(save_path, ans_emb)"
   ]
  }
 ],
 "metadata": {
  "kernelspec": {
   "display_name": "Python 3",
   "language": "python",
   "name": "python3"
  },
  "language_info": {
   "codemirror_mode": {
    "name": "ipython",
    "version": 3
   },
   "file_extension": ".py",
   "mimetype": "text/x-python",
   "name": "python",
   "nbconvert_exporter": "python",
   "pygments_lexer": "ipython3",
   "version": "3.6.8"
  }
 },
 "nbformat": 4,
 "nbformat_minor": 2
}
