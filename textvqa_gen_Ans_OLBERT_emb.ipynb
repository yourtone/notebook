{
 "cells": [
  {
   "cell_type": "code",
   "execution_count": 1,
   "metadata": {},
   "outputs": [],
   "source": [
    "import json\n",
    "import numpy as np\n",
    "import os"
   ]
  },
  {
   "cell_type": "code",
   "execution_count": 2,
   "metadata": {},
   "outputs": [],
   "source": [
    "import progressbar\n",
    "from bert_serving.client import BertClient\n",
    "bc = BertClient(ip='10.15.82.136', check_version=False)"
   ]
  },
  {
   "cell_type": "code",
   "execution_count": 3,
   "metadata": {},
   "outputs": [],
   "source": [
    "root_folder = '/home/lyt/code/concept_vqa'\n",
    "data_folder = '{}/dataTVQA'.format(root_folder)\n",
    "ocr_folder = '{}/image-feature/ocr'.format(data_folder)\n",
    "emb_size = 768\n",
    "ocr_num = 50"
   ]
  },
  {
   "cell_type": "code",
   "execution_count": 4,
   "metadata": {},
   "outputs": [],
   "source": [
    "split = 'TVA' # train on Tr; test on Val\n",
    "# split = 'TVEA' # train on Tr+Val; test on Te\n",
    "\n",
    "# suffix = '' # ocr_bert_DR\n",
    "# suffix = '.0init' # ocr_bert_DR.0init\n",
    "# suffix = '.clean.0init' # ocr_bert_DR.clean.0init\n",
    "# suffix = '.assemble.0init'\n",
    "#=======================================\n",
    "zeroInit = True # True for 0 init; False for random init\n",
    "if zeroInit:\n",
    "    suffix = '.0init'\n",
    "else:\n",
    "    suffix = ''"
   ]
  },
  {
   "cell_type": "code",
   "execution_count": 5,
   "metadata": {},
   "outputs": [
    {
     "name": "stdout",
     "output_type": "stream",
     "text": [
      "dict_keys(['itoa', 'itow'])\n",
      "index:(20), content:()\n"
     ]
    }
   ],
   "source": [
    "jsdict = json.load(open('{}/data.json'.format(data_folder),'r'))\n",
    "print(jsdict.keys())\n",
    "itoa = jsdict['itoa']\n",
    "removeIdx = -1\n",
    "for i,a in enumerate(itoa):\n",
    "    if a == '':\n",
    "        print('index:({}), content:({})'.format(i,a))\n",
    "        itoa[i] = '<blank>'\n",
    "        removeIdx = i"
   ]
  },
  {
   "cell_type": "code",
   "execution_count": 6,
   "metadata": {
    "scrolled": true
   },
   "outputs": [
    {
     "name": "stdout",
     "output_type": "stream",
     "text": [
      "(8205, 768)\n"
     ]
    }
   ],
   "source": [
    "if zeroInit:\n",
    "    ans_emb = np.zeros((len(itoa), emb_size)).astype('float32')\n",
    "else:\n",
    "    ans_emb = np.random.randn(len(itoa), emb_size).astype('float32')\n",
    "print(ans_emb.shape)\n",
    "ans_emb[0:len(itoa)] = bc.encode(itoa)"
   ]
  },
  {
   "cell_type": "code",
   "execution_count": 7,
   "metadata": {},
   "outputs": [
    {
     "name": "stdout",
     "output_type": "stream",
     "text": [
      "(8205, 768)\n"
     ]
    }
   ],
   "source": [
    "if removeIdx >= 0:\n",
    "    if zeroInit:\n",
    "        ans_emb[removeIdx] = np.zeros(emb_size).astype('float32')\n",
    "    else:\n",
    "        ans_emb[removeIdx] = np.random.randn(emb_size).astype('float32')\n",
    "print(ans_emb.shape)"
   ]
  },
  {
   "cell_type": "code",
   "execution_count": 8,
   "metadata": {},
   "outputs": [
    {
     "name": "stdout",
     "output_type": "stream",
     "text": [
      "[Save] save path: /home/lyt/code/concept_vqa/dataTVQA/image-feature/ocr/bert.768.0init/TVA/ans_emb.npy\n"
     ]
    }
   ],
   "source": [
    "save_folder = '{}/bert.{}{}/{}'.format(ocr_folder, emb_size, suffix, split)\n",
    "save_path = '{}/ans_emb.npy'.format(save_folder)\n",
    "print('[Save] save path: {}'.format(save_path))\n",
    "if not os.path.isdir(save_folder):\n",
    "    os.makedirs(save_folder)\n",
    "np.save(save_path, ans_emb)"
   ]
  },
  {
   "cell_type": "code",
   "execution_count": 9,
   "metadata": {},
   "outputs": [],
   "source": [
    "bc.close()"
   ]
  }
 ],
 "metadata": {
  "kernelspec": {
   "display_name": "Python 3",
   "language": "python",
   "name": "python3"
  },
  "language_info": {
   "codemirror_mode": {
    "name": "ipython",
    "version": 3
   },
   "file_extension": ".py",
   "mimetype": "text/x-python",
   "name": "python",
   "nbconvert_exporter": "python",
   "pygments_lexer": "ipython3",
   "version": "3.6.8"
  }
 },
 "nbformat": 4,
 "nbformat_minor": 2
}
