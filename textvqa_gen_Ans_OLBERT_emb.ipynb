{
 "cells": [
  {
   "cell_type": "code",
   "execution_count": 1,
   "metadata": {},
   "outputs": [],
   "source": [
    "import json\n",
    "import numpy as np\n",
    "import os\n",
    "from config import cfg"
   ]
  },
  {
   "cell_type": "code",
   "execution_count": 2,
   "metadata": {},
   "outputs": [],
   "source": [
    "from bert_serving.client import BertClient\n",
    "bc = BertClient(ip='10.15.82.136')"
   ]
  },
  {
   "cell_type": "code",
   "execution_count": 3,
   "metadata": {},
   "outputs": [],
   "source": [
    "emb_size = 1024"
   ]
  },
  {
   "cell_type": "code",
   "execution_count": 4,
   "metadata": {},
   "outputs": [],
   "source": [
    "split = 'TVA' # train on Tr; test on Val\n",
    "# split = 'TVEA' # train on Tr+Val; test on Te\n",
    "\n",
    "# suffix = '' # ocr_bert_DR\n",
    "# suffix = '.0init' # ocr_bert_DR.0init\n",
    "# suffix = '.clean.0init' # ocr_bert_DR.clean.0init\n",
    "# suffix = '.assemble.0init'\n",
    "#=======================================\n",
    "suffix = '.0init'"
   ]
  },
  {
   "cell_type": "code",
   "execution_count": 5,
   "metadata": {},
   "outputs": [
    {
     "name": "stdout",
     "output_type": "stream",
     "text": [
      "dict_keys(['itoa', 'itow'])\n",
      "index:(20), content:()\n"
     ]
    }
   ],
   "source": [
    "jsdict = json.load(open('{}/data.json'.format(cfg.DATA_DIR),'r'))\n",
    "print(jsdict.keys())\n",
    "itoa = jsdict['itoa']\n",
    "removeIdx = -1\n",
    "for i,a in enumerate(itoa):\n",
    "    if a == '':\n",
    "        print('index:({}), content:({})'.format(i,a))\n",
    "        itoa[i] = '<blank>'\n",
    "        removeIdx = i"
   ]
  },
  {
   "cell_type": "code",
   "execution_count": 6,
   "metadata": {
    "scrolled": true
   },
   "outputs": [
    {
     "name": "stdout",
     "output_type": "stream",
     "text": [
      "(8205, 1024)\n"
     ]
    }
   ],
   "source": [
    "ans_emb = np.zeros((len(itoa), emb_size)).astype('float32')\n",
    "print(ans_emb.shape)\n",
    "ans_emb[0:len(itoa)] = bc.encode(itoa)"
   ]
  },
  {
   "cell_type": "code",
   "execution_count": 7,
   "metadata": {},
   "outputs": [],
   "source": [
    "if removeIdx >= 0:\n",
    "    ans_emb[removeIdx] = np.random.randn(emb_size).astype('float32')"
   ]
  },
  {
   "cell_type": "code",
   "execution_count": 8,
   "metadata": {},
   "outputs": [
    {
     "name": "stdout",
     "output_type": "stream",
     "text": [
      "[Save] save path: /home/lyt/code/concept_vqa/dataTVQA/image-feature/ocr/bert.1024.0init/TVA/ans_emb.npy\n"
     ]
    }
   ],
   "source": [
    "save_folder = '{}/bert.{}{}/{}'.format(cfg.OCR_DIR, emb_size, suffix, split)\n",
    "save_path = '{}/ans_emb.npy'.format(save_folder)\n",
    "print('[Save] save path: {}'.format(save_path))\n",
    "if not os.path.isdir(save_folder):\n",
    "    os.makedirs(save_folder)\n",
    "np.save(save_path, ans_emb)"
   ]
  },
  {
   "cell_type": "code",
   "execution_count": 9,
   "metadata": {},
   "outputs": [],
   "source": [
    "bc.close()"
   ]
  }
 ],
 "metadata": {
  "kernelspec": {
   "display_name": "Python 3",
   "language": "python",
   "name": "python3"
  },
  "language_info": {
   "codemirror_mode": {
    "name": "ipython",
    "version": 3
   },
   "file_extension": ".py",
   "mimetype": "text/x-python",
   "name": "python",
   "nbconvert_exporter": "python",
   "pygments_lexer": "ipython3",
   "version": "3.6.8"
  }
 },
 "nbformat": 4,
 "nbformat_minor": 2
}
