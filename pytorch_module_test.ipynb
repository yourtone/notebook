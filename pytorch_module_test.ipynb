{
 "cells": [
  {
   "cell_type": "code",
   "execution_count": 1,
   "metadata": {},
   "outputs": [],
   "source": [
    "import torch\n",
    "import torch.nn as nn\n",
    "from torch.autograd import Variable"
   ]
  },
  {
   "cell_type": "code",
   "execution_count": 2,
   "metadata": {},
   "outputs": [],
   "source": [
    "class DynamicLinear(nn.Module):\n",
    "    def __init__(self, insize, outsize):\n",
    "        super(DynamicLinear, self).__init__()\n",
    "        self.net = nn.Linear(insize, outsize, bias=False)\n",
    "    def forward(self, weights, input):\n",
    "        self.net.weight = weights\n",
    "        out = self.net(input)\n",
    "        return out"
   ]
  },
  {
   "cell_type": "code",
   "execution_count": 3,
   "metadata": {},
   "outputs": [],
   "source": [
    "bs = 10\n",
    "insz = 3\n",
    "ousz = 5\n",
    "model = DynamicLinear(insz, ousz)"
   ]
  },
  {
   "cell_type": "code",
   "execution_count": 4,
   "metadata": {
    "scrolled": true
   },
   "outputs": [
    {
     "name": "stdout",
     "output_type": "stream",
     "text": [
      "torch.Size([10, 5])\n"
     ]
    }
   ],
   "source": [
    "weights = nn.Parameter(torch.randn(ousz, insz), requires_grad=False)\n",
    "input = Variable(torch.randn(bs, insz))\n",
    "output = model(weights, input)\n",
    "print(output.size())"
   ]
  },
  {
   "cell_type": "code",
   "execution_count": 5,
   "metadata": {},
   "outputs": [
    {
     "name": "stdout",
     "output_type": "stream",
     "text": [
      "torch.Size([10, 3])\n",
      "torch.Size([10, 3])\n"
     ]
    }
   ],
   "source": [
    "print(torch.mm(output,Variable(torch.randn(5,3))).shape)\n",
    "print(torch.mm(output.data,torch.randn(5,3)).shape)"
   ]
  },
  {
   "cell_type": "code",
   "execution_count": 6,
   "metadata": {},
   "outputs": [],
   "source": [
    "#====================================="
   ]
  },
  {
   "cell_type": "code",
   "execution_count": 7,
   "metadata": {},
   "outputs": [],
   "source": [
    "class MultiplyLinear(nn.Module):\n",
    "    def __init__(self, insize, embsize):\n",
    "        super(MultiplyLinear, self).__init__()\n",
    "        self.net = nn.Linear(insize, embsize, bias=False)\n",
    "    def forward(self, input, ocr):\n",
    "        emb = self.net(input).unsqueeze(2)\n",
    "        out = torch.bmm(ocr,emb).squeeze()\n",
    "        return out"
   ]
  },
  {
   "cell_type": "code",
   "execution_count": 8,
   "metadata": {},
   "outputs": [],
   "source": [
    "bs = 64\n",
    "insz = 2048\n",
    "emsz = 300\n",
    "ousz = 50\n",
    "model = MultiplyLinear(insz, emsz)"
   ]
  },
  {
   "cell_type": "code",
   "execution_count": 9,
   "metadata": {},
   "outputs": [
    {
     "name": "stdout",
     "output_type": "stream",
     "text": [
      "torch.Size([64, 50])\n"
     ]
    }
   ],
   "source": [
    "ocr = Variable(torch.randn(bs, ousz, emsz))\n",
    "input = Variable(torch.randn(bs, insz))\n",
    "output = model(input, ocr)\n",
    "print(output.size())"
   ]
  },
  {
   "cell_type": "code",
   "execution_count": 10,
   "metadata": {},
   "outputs": [],
   "source": [
    "#====================================="
   ]
  },
  {
   "cell_type": "code",
   "execution_count": 11,
   "metadata": {},
   "outputs": [],
   "source": [
    "import torch"
   ]
  },
  {
   "cell_type": "code",
   "execution_count": 12,
   "metadata": {},
   "outputs": [
    {
     "data": {
      "text/plain": [
       "torch.Size([64, 8205])"
      ]
     },
     "execution_count": 12,
     "metadata": {},
     "output_type": "execute_result"
    }
   ],
   "source": [
    "a = torch.randn(64, 300)\n",
    "b = torch.randn(8205, 300)\n",
    "torch.mm(a,b.transpose(0,1)).shape"
   ]
  },
  {
   "cell_type": "code",
   "execution_count": 13,
   "metadata": {},
   "outputs": [
    {
     "data": {
      "text/plain": [
       "torch.Size([64, 50])"
      ]
     },
     "execution_count": 13,
     "metadata": {},
     "output_type": "execute_result"
    }
   ],
   "source": [
    "a = torch.randn(64, 300)\n",
    "b = torch.randn(64, 50, 300)\n",
    "torch.bmm(b, a.unsqueeze(2)).squeeze().shape"
   ]
  },
  {
   "cell_type": "code",
   "execution_count": 14,
   "metadata": {},
   "outputs": [
    {
     "data": {
      "text/plain": [
       "torch.Size([64, 50])"
      ]
     },
     "execution_count": 14,
     "metadata": {},
     "output_type": "execute_result"
    }
   ],
   "source": [
    "a = torch.randn(64, 300)\n",
    "b = Variable(torch.randn(64, 50, 300))\n",
    "torch.bmm(b.data, a.unsqueeze(2)).squeeze().shape"
   ]
  }
 ],
 "metadata": {
  "kernelspec": {
   "display_name": "Python 3",
   "language": "python",
   "name": "python3"
  },
  "language_info": {
   "codemirror_mode": {
    "name": "ipython",
    "version": 3
   },
   "file_extension": ".py",
   "mimetype": "text/x-python",
   "name": "python",
   "nbconvert_exporter": "python",
   "pygments_lexer": "ipython3",
   "version": "3.6.8"
  }
 },
 "nbformat": 4,
 "nbformat_minor": 2
}
