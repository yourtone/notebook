{
 "cells": [
  {
   "cell_type": "code",
   "execution_count": 1,
   "metadata": {},
   "outputs": [],
   "source": [
    "import numpy as np\n",
    "import json"
   ]
  },
  {
   "cell_type": "code",
   "execution_count": 2,
   "metadata": {},
   "outputs": [],
   "source": [
    "odata=json.load(open('/home/data3/lyt/dataTVQA_4/data.json'))\n",
    "oa=odata['itoa']\n",
    "ndata=json.load(open('/home/data3/lyt/concept_vqa/dataTVQA/data.json'))\n",
    "na=ndata['itoa']"
   ]
  },
  {
   "cell_type": "code",
   "execution_count": 3,
   "metadata": {},
   "outputs": [],
   "source": [
    "ind=np.zeros(len(oa))\n",
    "for i,a in enumerate(na):\n",
    "    ind[i]=oa.index(a)"
   ]
  },
  {
   "cell_type": "code",
   "execution_count": 4,
   "metadata": {},
   "outputs": [],
   "source": [
    "oae=np.load('/home/data3/lyt/ocr_4/ocr_bert.new.768/trval/itoa_emb.npy')\n",
    "nae=oae[ind.astype('long')]\n",
    "np.save('/home/data3/lyt/concept_vqa/dataTVQA/image-feature/ocr/bert.768.0init.ori/TVA/ans_emb.npy',nae)"
   ]
  }
 ],
 "metadata": {
  "kernelspec": {
   "display_name": "Python 3",
   "language": "python",
   "name": "python3"
  },
  "language_info": {
   "codemirror_mode": {
    "name": "ipython",
    "version": 3
   },
   "file_extension": ".py",
   "mimetype": "text/x-python",
   "name": "python",
   "nbconvert_exporter": "python",
   "pygments_lexer": "ipython3",
   "version": "3.6.8"
  }
 },
 "nbformat": 4,
 "nbformat_minor": 2
}
