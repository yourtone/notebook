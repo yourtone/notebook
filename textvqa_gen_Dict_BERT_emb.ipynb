{
 "cells": [
  {
   "cell_type": "code",
   "execution_count": 1,
   "metadata": {},
   "outputs": [],
   "source": [
    "import json\n",
    "import numpy as np"
   ]
  },
  {
   "cell_type": "code",
   "execution_count": 2,
   "metadata": {},
   "outputs": [],
   "source": [
    "from bert_serving.client import BertClient\n",
    "bc = BertClient(ip='10.15.82.136',check_version=False)"
   ]
  },
  {
   "cell_type": "code",
   "execution_count": 3,
   "metadata": {},
   "outputs": [],
   "source": [
    "root_folder = '/home/lyt/code/concept_vqa'\n",
    "data_folder = '{}/dataTVQA'.format(root_folder)"
   ]
  },
  {
   "cell_type": "code",
   "execution_count": 4,
   "metadata": {},
   "outputs": [],
   "source": [
    "def load_vocab(emb_file):\n",
    "    with open(emb_file) as f:\n",
    "        raw = f.read().splitlines()\n",
    "    vocab = [l.split(' ', 1)[0] for l in raw]\n",
    "    return vocab"
   ]
  },
  {
   "cell_type": "code",
   "execution_count": 5,
   "metadata": {},
   "outputs": [],
   "source": [
    "def write_vocab_emb(emb_file, vocab, emb):\n",
    "    emb = emb.tolist()\n",
    "    emb = [['{:f}'.format(xx) for xx in x] for x in emb]\n",
    "    vocab = [[v] for v in vocab]\n",
    "    y = list(zip(vocab,emb))\n",
    "    z = [' '.join(yy[0]+yy[1]) for yy in y]\n",
    "    with open(emb_file, 'w') as f:\n",
    "        f.write('\\n'.join(z))"
   ]
  },
  {
   "cell_type": "code",
   "execution_count": 6,
   "metadata": {},
   "outputs": [
    {
     "name": "stdout",
     "output_type": "stream",
     "text": [
      "[Load] /home/lyt/code/concept_vqa/dataTVQA/word-embedding/glove.6B.300d.txt ...\n",
      "[Info] Total 400000 vacabs\n"
     ]
    }
   ],
   "source": [
    "emb_file = '{}/word-embedding/glove.6B.300d.txt'.format(data_folder)\n",
    "print('[Load] {} ...'.format(emb_file))\n",
    "vocab = load_vocab(emb_file)\n",
    "print('[Info] Total {} vacabs'.format(len(vocab)))"
   ]
  },
  {
   "cell_type": "code",
   "execution_count": 7,
   "metadata": {},
   "outputs": [
    {
     "name": "stdout",
     "output_type": "stream",
     "text": [
      "[Info] Dict emb shape: (400000, 768)\n"
     ]
    }
   ],
   "source": [
    "dict_emb = bc.encode(vocab).astype('float32')\n",
    "print('[Info] Dict emb shape: {}'.format(dict_emb.shape))"
   ]
  },
  {
   "cell_type": "code",
   "execution_count": 10,
   "metadata": {},
   "outputs": [
    {
     "name": "stdout",
     "output_type": "stream",
     "text": [
      "[Write] /home/lyt/code/concept_vqa/dataTVQA/word-embedding/bert.768d.txt ...\n"
     ]
    }
   ],
   "source": [
    "emb_file = '{}/word-embedding/bert.{}d.txt'.format(data_folder, dict_emb.shape[1])\n",
    "print('[Write] {} ...'.format(emb_file))\n",
    "write_vocab_emb(emb_file, vocab, dict_emb)"
   ]
  },
  {
   "cell_type": "code",
   "execution_count": 9,
   "metadata": {},
   "outputs": [],
   "source": [
    "bc.close()"
   ]
  }
 ],
 "metadata": {
  "kernelspec": {
   "display_name": "Python 3",
   "language": "python",
   "name": "python3"
  },
  "language_info": {
   "codemirror_mode": {
    "name": "ipython",
    "version": 3
   },
   "file_extension": ".py",
   "mimetype": "text/x-python",
   "name": "python",
   "nbconvert_exporter": "python",
   "pygments_lexer": "ipython3",
   "version": "3.6.8"
  }
 },
 "nbformat": 4,
 "nbformat_minor": 2
}
