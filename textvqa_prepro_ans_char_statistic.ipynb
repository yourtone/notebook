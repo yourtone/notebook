{
 "cells": [
  {
   "cell_type": "code",
   "execution_count": 1,
   "metadata": {},
   "outputs": [],
   "source": [
    "import json\n",
    "import numpy as np"
   ]
  },
  {
   "cell_type": "code",
   "execution_count": 2,
   "metadata": {},
   "outputs": [],
   "source": [
    "root_folder = '/home/lyt/code/vqa-concept'\n",
    "data_folder = '{}/dataTVQA'.format(root_folder)"
   ]
  },
  {
   "cell_type": "code",
   "execution_count": 3,
   "metadata": {},
   "outputs": [
    {
     "name": "stdout",
     "output_type": "stream",
     "text": [
      "dict_keys(['dataset_type', 'dataset_name', 'dataset_version', 'data'])\n",
      "dict_keys(['dataset_type', 'dataset_name', 'dataset_version', 'data'])\n"
     ]
    }
   ],
   "source": [
    "trjsdata = json.load(open('{}/TextVQA_0.5_{}.json'.format(data_folder, 'train'),'r'))\n",
    "print(trjsdata.keys())\n",
    "vajsdata = json.load(open('{}/TextVQA_0.5_{}.json'.format(data_folder, 'val'),'r'))\n",
    "print(vajsdata.keys())"
   ]
  },
  {
   "cell_type": "code",
   "execution_count": 4,
   "metadata": {},
   "outputs": [
    {
     "name": "stdout",
     "output_type": "stream",
     "text": [
      "34602\n",
      "5000\n"
     ]
    }
   ],
   "source": [
    "trdata = trjsdata['data']\n",
    "print(len(trdata))\n",
    "vadata = vajsdata['data']\n",
    "print(len(vadata))"
   ]
  },
  {
   "cell_type": "code",
   "execution_count": 5,
   "metadata": {
    "scrolled": true
   },
   "outputs": [],
   "source": [
    "# for pair in trdata:\n",
    "#     for ans in pair['answers']:\n",
    "#         for c in ans:\n",
    "#             if not ('0'<=c<='9' or 'A'<=c<='Z' or 'a'<=c<='z' or c==' '):\n",
    "#                 print(ans)"
   ]
  },
  {
   "cell_type": "code",
   "execution_count": 6,
   "metadata": {},
   "outputs": [],
   "source": [
    "data = trdata + vadata"
   ]
  },
  {
   "cell_type": "code",
   "execution_count": 7,
   "metadata": {},
   "outputs": [],
   "source": [
    "ocrchars = {}\n",
    "for pair in data:\n",
    "    for ans in pair['answers']:\n",
    "        for c in ans:\n",
    "            if c in ocrchars:\n",
    "                ocrchars[c] += 1\n",
    "            else:\n",
    "                ocrchars[c] = 1"
   ]
  },
  {
   "cell_type": "code",
   "execution_count": 8,
   "metadata": {},
   "outputs": [
    {
     "data": {
      "text/plain": [
       "117"
      ]
     },
     "execution_count": 8,
     "metadata": {},
     "output_type": "execute_result"
    }
   ],
   "source": [
    "len(ocrchars)"
   ]
  },
  {
   "cell_type": "code",
   "execution_count": 9,
   "metadata": {},
   "outputs": [
    {
     "name": "stdout",
     "output_type": "stream",
     "text": [
      "[('e', 345313), ('a', 272211), (' ', 257338), ('n', 218990), ('r', 209757), ('o', 208355), ('i', 204919), ('s', 200456), ('t', 185554), ('l', 142855), ('c', 107948), ('d', 94334), ('u', 87237), ('m', 86015), ('h', 84097), ('g', 77733), ('b', 64988), ('y', 64868), ('p', 64599), ('w', 51613), ('1', 50230), ('0', 47895), ('f', 43076), ('k', 40385), ('2', 38339), ('v', 28260), ('5', 23043), ('3', 22040), ('9', 18661), ('4', 18600), ('x', 16182), ('.', 16053), ('8', 15142), ('7', 14329), ('6', 14049), ('j', 12001), (':', 11130), ('z', 9507), ('q', 9164), ('-', 8018), (',', 6904), (\"'\", 5126), ('/', 2510), ('&', 2021), ('!', 1199), ('$', 1050), ('%', 1005), ('\"', 803), ('?', 452), ('+', 295), ('#', 257), ('(', 197), (')', 193), ('@', 191), (';', 107), ('*', 86), ('=', 54), ('_', 30), ('\\\\', 22), ('>', 21), ('é', 21), ('£', 17), ('€', 16), ('^', 15), ('´', 14), ('`', 9), (']', 8), ('ö', 8), ('<', 8), ('°', 8), ('~', 7), ('í', 6), ('ä', 6), ('[', 6), ('¢', 5), ('ñ', 5), ('ı', 4), ('•', 4), ('á', 3), ('π', 3), ('ã', 3), ('ü', 3), ('ß', 3), ('â', 2), ('’', 2), ('р', 2), ('а', 2), ('º', 2), ('õ', 2), ('²', 2), ('{', 2), ('|', 2), ('ự', 1), ('đ', 1), ('ứ', 1), ('ð', 1), ('ş', 1), ('ý', 1), ('¿', 1), ('å', 1), ('è', 1), ('®', 1), ('č', 1), ('ç', 1), ('–', 1), ('у', 1), ('п', 1), ('е', 1), ('г', 1), ('о', 1), ('\\u200e', 1), ('¥', 1), ('ê', 1), ('ø', 1), ('æ', 1), ('}', 1), ('ë', 1)]\n",
      "['e', 'a', ' ', 'n', 'r', 'o', 'i', 's', 't', 'l', 'c', 'd', 'u', 'm', 'h', 'g', 'b', 'y', 'p', 'w', '1', '0', 'f', 'k', '2', 'v', '5', '3', '9', '4', 'x', '.', '8', '7', '6', 'j', ':', 'z', 'q', '-', ',', \"'\", '/', '&', '!', '$', '%', '\"', '?', '+', '#', '(', ')', '@', ';', '*', '=', '_', '\\\\', '>', 'é']\n"
     ]
    }
   ],
   "source": [
    "sorted_ocrchars = sorted(ocrchars.items(), key=lambda x: x[1], reverse=True)\n",
    "print(sorted_ocrchars)\n",
    "popuchars = [item[0] for item in sorted_ocrchars if item[1]>20]\n",
    "print(popuchars)"
   ]
  },
  {
   "cell_type": "code",
   "execution_count": 10,
   "metadata": {},
   "outputs": [
    {
     "name": "stdout",
     "output_type": "stream",
     "text": [
      "£10\n",
      "sang phía tự do\n",
      "sang phía tự do\n",
      "5¢\n",
      "o mundo fantástico de h.p. lovecraft\n",
      "no]\n",
      "princípio\n",
      "brahms: ungarische tänze, dvorák: slawisch tänze\n",
      "brahms: ungarische tänze, dvorák: slawisch tänze\n",
      "brahms: ungarische tänze, dvorák: slawisch tänze\n",
      "vilda säger nej!\n",
      "michel đức chaigneau\n",
      "michel đức chaigneau\n",
      "€9.99\n",
      "20€\n",
      "drop it, fella.... you´re under arrest!\n",
      "arnaldur indriðason\n",
      "15¢\n",
      "marie osmoı\n",
      "södertörn university\n",
      "södertörn university\n",
      "12¢\n",
      "thoreau´s\n",
      "the king`s library\n",
      "no, it doesn´t\n",
      "das meister~werk\n",
      "sânziana şi pepelea\n",
      "sânziana şi pepelea\n",
      "budejovický budvar\n",
      "marston’s\n",
      "welch´s\n",
      "jack daniel´s\n",
      "jalapeño\n",
      "england’s glory\n",
      ".99¢\n",
      "¿jugo o veneno?\n",
      "jack daniel´s\n",
      "£8.79\n",
      "pripps blå\n",
      "£10\n",
      "disk ][\n",
      "disk ][\n",
      "we <3 shibuta\n",
      "we <3 shibuya\n",
      "la vernarède\n",
      "48`\n",
      "~\n",
      "truly®\n",
      "£0.50\n",
      "25 öre\n",
      "esc f1 f2 f3 f4 f5 f6 f7 ` 1 2 3 4 5 6 7 8 tab q e r t y u i capslock f g h j shift z x c v b n ctrl meta alt spacebar\n",
      "<\n",
      "`\n",
      "<\n",
      "£ 2.50\n",
      "65°f\n",
      "oscar cañas\n",
      "£1.30\n",
      "10•\n",
      "beer o'clock~\n",
      "zur elektrodynamik bewegter körper\n",
      "punč\n",
      "çontax\n",
      "£31\n",
      "€ 2.00\n",
      "^:58\n",
      "-28°\n",
      "ceci n`est pas une pipe\n",
      "nära kan visst skjuta hare\n",
      "a^2+b^2=c^2\n",
      "a^2+b^2=c^2\n",
      "a^2+b^2=c^2\n",
      "a^2+b^2=c^2, a=3πr^2, sum from k=1 to infinty 1/k^2 = π^2/6\n",
      "a^2+b^2=c^2, a=3πr^2, sum from k=1 to infinty 1/k^2 = π^2/6\n",
      "a^2+b^2=c^2, a=3πr^2, sum from k=1 to infinty 1/k^2 = π^2/6\n",
      "a^2+b^2=c^2, a=3πr^2, sum from k=1 to infinty 1/k^2 = π^2/6\n",
      "a^2+b^2=c^2, a=3πr^2, sum from k=1 to infinty 1/k^2 = π^2/6\n",
      "a^2+b^2=c^2, a=3πr^2, sum from k=1 to infinty 1/k^2 = π^2/6\n",
      "a^2+b^2=c^2, a=3πr^2, sum from k=1 to infinty 1/k^2 = π^2/6\n",
      "a^2+b^2=c^2, a=3πr^2, sum from k=1 to infinty 1/k^2 = π^2/6\n",
      "921–928 \n",
      "codorníu \n",
      "€31\n",
      "1.99€\n",
      "oscar cañas\n",
      "oscar cañas\n",
      "`952\n",
      "£20,000\n",
      "£20,000 \n",
      "15¢\n",
      "уперагора\n",
      "уперагора\n",
      "уперагора\n",
      "уперагора\n",
      "уперагора\n",
      "уперагора\n",
      "уперагора\n",
      "уперагора\n",
      "уперагора\n",
      "£1\n",
      "falcão negro em perigo\n",
      "‎daiei film\n",
      "€3.99\n",
      "€3.99\n",
      "£50\n",
      "£50\n",
      "sunkförort\n",
      "sunkförort\n",
      "yes at least £20\n",
      "€36\n",
      "€36\n",
      "27°\n",
      "23° c\n",
      "l´eouipe\n",
      "<9\n",
      "tarciso leão\n",
      "€1 books - 5 for €4\n",
      "€1 books - 5 for €4\n",
      "thunder tımbler\n",
      "1`\n",
      "strahc so od norveska cak i <3 ny\n",
      "23rd se[t\n",
      "what`s your point\n",
      "canada´\n",
      "hunsrück\n",
      "stop]\n",
      "no, it doesn´t\n",
      "19•c\n",
      "19ºc\n",
      "ı cant read\n",
      "krustyo´s\n",
      "¥120\n",
      "weiße\n",
      " weiße bohnen\n",
      "weiße bohnen\n",
      "£90.00\n",
      "no, you can´t\n",
      "galeão português\n",
      "galeão português\n",
      "^p&q\n",
      "(9/9)^9\n",
      "(9/9)^9\n",
      "(9/9)^9 and 9+9/sqrt(9)\n",
      "(9/9)^9\n",
      "-8.5•c\n",
      "5•c\n",
      "~election day\n",
      "our city`s historic buildings\n",
      "12:02:[3]\n",
      "12:02:[3]\n",
      "ideal pair days [ipd]\n",
      "ideal pair days [ipd]\n",
      "nørrebro bryghus\n",
      "ægir bryggeri\n",
      "château\n",
      "löwenbräu\n",
      "löwenbräu\n",
      "[aio;;ac\n",
      "tokaj-hetszõlõ tokaj-hungary\n",
      "tokaj-hetszõlõ tokaj-hungary\n",
      "£500\n",
      "el desafío\n",
      "mango]\n",
      "beck´s\n",
      "2°esq/gavop\n",
      "2°esq/gavop\n",
      "2ºesq/gavop\n",
      "no, it isn´t\n",
      "i <3 baku\n",
      "i <3 baku\n",
      "full tilt [poker\n",
      "4°\n",
      "€1.50\n",
      "9:41 am]\n",
      "hubaína retro\n",
      "raw ~ unfiltered\n",
      "gestürmte festung europa\n",
      "the complete gründerfeld\n",
      "π(q²)/q²\n",
      "π(q²)/q²\n",
      "π(q²)/q²\n",
      "£1\n",
      "£1\n",
      "bäco pop!\n",
      "44.99 €\n",
      "16°\n",
      "10:00~9:00\n",
      "10:00~9:00\n",
      "bacardí\n",
      "astaño\n",
      "{\n",
      "{]}\\|\n",
      "{]}\\|\n",
      "{]}\\|\n",
      "{]}\\|\n",
      "\\ |\n",
      "3,50€\n",
      "citroën\n",
      "varför\n",
      "dr. laffer´s\n",
      "yes ı can\n",
      "10€\n",
      "10€\n",
      "la sombra del águila\n"
     ]
    }
   ],
   "source": [
    "for pair in data:\n",
    "    for ans in pair['answers']:\n",
    "        for c in ans:\n",
    "            if c not in popuchars:\n",
    "                print(ans)"
   ]
  },
  {
   "cell_type": "code",
   "execution_count": 11,
   "metadata": {},
   "outputs": [],
   "source": [
    "with open('{}/popuchars.txt'.format(data_folder), 'w') as f:\n",
    "    f.write('\\n'.join(popuchars))"
   ]
  }
 ],
 "metadata": {
  "kernelspec": {
   "display_name": "Python 3",
   "language": "python",
   "name": "python3"
  },
  "language_info": {
   "codemirror_mode": {
    "name": "ipython",
    "version": 3
   },
   "file_extension": ".py",
   "mimetype": "text/x-python",
   "name": "python",
   "nbconvert_exporter": "python",
   "pygments_lexer": "ipython3",
   "version": "3.6.8"
  }
 },
 "nbformat": 4,
 "nbformat_minor": 2
}
