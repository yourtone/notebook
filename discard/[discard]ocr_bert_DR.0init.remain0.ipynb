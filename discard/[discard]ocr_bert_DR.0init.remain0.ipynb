{
 "cells": [
  {
   "cell_type": "code",
   "execution_count": 18,
   "metadata": {},
   "outputs": [],
   "source": [
    "import numpy as np\n",
    "from sklearn.decomposition import PCA\n",
    "import os\n",
    "import pickle"
   ]
  },
  {
   "cell_type": "code",
   "execution_count": 19,
   "metadata": {},
   "outputs": [],
   "source": [
    "folder = '/home/lyt/code/vqa-concept/dataTVQA/image-feature/bottomup'"
   ]
  },
  {
   "cell_type": "code",
   "execution_count": 20,
   "metadata": {},
   "outputs": [],
   "source": [
    "trainfile = '{}/ocr_bert.new.{}/{}_50_ocr.0init.npy'.format(folder, 768, 'train')\n",
    "valfile = '{}/ocr_bert.new.{}/{}_50_ocr.0init.npy'.format(folder, 768, 'val')\n",
    "testfile = '{}/ocr_bert.new.{}/{}_50_ocr.0init.npy'.format(folder, 768, 'test')\n",
    "itoafile = '{}/ocr_bert.new.{}/{}_ocr.npy'.format(folder, 768, 'itoa')"
   ]
  },
  {
   "cell_type": "code",
   "execution_count": 21,
   "metadata": {},
   "outputs": [],
   "source": [
    "trainX = np.load(trainfile)\n",
    "valX = np.load(valfile)\n",
    "testX = np.load(testfile)\n",
    "itoaX = np.load(itoafile)"
   ]
  },
  {
   "cell_type": "code",
   "execution_count": 22,
   "metadata": {
    "scrolled": true
   },
   "outputs": [
    {
     "name": "stdout",
     "output_type": "stream",
     "text": [
      "(21953, 50, 768)\n",
      "(3166, 50, 768)\n",
      "(3289, 50, 768)\n",
      "(9452, 768)\n"
     ]
    }
   ],
   "source": [
    "print(trainX.shape)\n",
    "print(valX.shape)\n",
    "print(testX.shape)\n",
    "print(itoaX.shape)"
   ]
  },
  {
   "cell_type": "code",
   "execution_count": 23,
   "metadata": {},
   "outputs": [],
   "source": [
    "trainX = trainX.reshape(-1,768)\n",
    "valX = valX.reshape(-1,768)\n",
    "testX = testX.reshape(-1,768)"
   ]
  },
  {
   "cell_type": "code",
   "execution_count": 24,
   "metadata": {
    "scrolled": false
   },
   "outputs": [
    {
     "name": "stdout",
     "output_type": "stream",
     "text": [
      "(1097650, 768)\n",
      "(158300, 768)\n",
      "(164450, 768)\n",
      "(9452, 768)\n"
     ]
    }
   ],
   "source": [
    "print(trainX.shape)\n",
    "print(valX.shape)\n",
    "print(testX.shape)\n",
    "print(itoaX.shape)"
   ]
  },
  {
   "cell_type": "code",
   "execution_count": 25,
   "metadata": {},
   "outputs": [],
   "source": [
    "trainZeroIdx = np.sum(np.abs(trainX), 1) == 0\n",
    "valZeroIdx = np.sum(np.abs(valX), 1) == 0\n",
    "testZeroIdx = np.sum(np.abs(testX), 1) == 0"
   ]
  },
  {
   "cell_type": "code",
   "execution_count": 26,
   "metadata": {},
   "outputs": [
    {
     "name": "stdout",
     "output_type": "stream",
     "text": [
      "(1429852, 768)\n",
      "(286879, 768)\n"
     ]
    }
   ],
   "source": [
    "#X = np.concatenate((trainX, valX, itoaX), 0) # train on Tr; test on Val\n",
    "X = np.concatenate((trainX, valX, testX, itoaX), 0) # train on Tr+Val; test on Te\n",
    "print(X.shape)\n",
    "nonzeroIdx = np.sum(np.abs(X), 1) != 0\n",
    "X = X[nonzeroIdx]\n",
    "print(X.shape)"
   ]
  },
  {
   "cell_type": "code",
   "execution_count": 27,
   "metadata": {},
   "outputs": [],
   "source": [
    "pcafile = '{}/ocr_bert.new.{}/pca.0init.remain0.pkl'.format(folder, 300)\n",
    "if os.path.exists(pcafile):\n",
    "    with open(pcafile, 'rb') as f:\n",
    "        pca=pickle.load(f)\n",
    "else:\n",
    "    pca = PCA(n_components=300)\n",
    "    pca.fit(X)\n",
    "    with open(pcafile, 'wb') as f:\n",
    "        pickle.dump(pca, f)"
   ]
  },
  {
   "cell_type": "code",
   "execution_count": 28,
   "metadata": {},
   "outputs": [],
   "source": [
    "trX = pca.transform(trainX)\n",
    "vaX = pca.transform(valX)\n",
    "teX = pca.transform(testX)\n",
    "iaX = pca.transform(itoaX)"
   ]
  },
  {
   "cell_type": "code",
   "execution_count": 29,
   "metadata": {
    "scrolled": true
   },
   "outputs": [
    {
     "name": "stdout",
     "output_type": "stream",
     "text": [
      "(1097650, 300)\n",
      "(158300, 300)\n",
      "(164450, 300)\n",
      "(9452, 300)\n"
     ]
    }
   ],
   "source": [
    "print(trX.shape)\n",
    "print(vaX.shape)\n",
    "print(teX.shape)\n",
    "print(iaX.shape)"
   ]
  },
  {
   "cell_type": "code",
   "execution_count": 30,
   "metadata": {},
   "outputs": [],
   "source": [
    "# remain 0 if original is 0\n",
    "trX[trainZeroIdx] = 0\n",
    "vaX[valZeroIdx] = 0\n",
    "teX[testZeroIdx] = 0"
   ]
  },
  {
   "cell_type": "code",
   "execution_count": 31,
   "metadata": {},
   "outputs": [],
   "source": [
    "trX = trX.reshape(-1,50,300)\n",
    "vaX = vaX.reshape(-1,50,300)\n",
    "teX = teX.reshape(-1,50,300)"
   ]
  },
  {
   "cell_type": "code",
   "execution_count": 32,
   "metadata": {},
   "outputs": [
    {
     "name": "stdout",
     "output_type": "stream",
     "text": [
      "(21953, 50, 300)\n",
      "(3166, 50, 300)\n",
      "(3289, 50, 300)\n",
      "(9452, 300)\n"
     ]
    }
   ],
   "source": [
    "print(trX.shape)\n",
    "print(vaX.shape)\n",
    "print(teX.shape)\n",
    "print(iaX.shape)"
   ]
  },
  {
   "cell_type": "code",
   "execution_count": 33,
   "metadata": {},
   "outputs": [],
   "source": [
    "trainfile = '{}/ocr_bert.new.{}/{}_50_ocr.0init.remain0.npy'.format(folder, 300, 'train')\n",
    "valfile = '{}/ocr_bert.new.{}/{}_50_ocr.0init.remain0.npy'.format(folder, 300, 'val')\n",
    "testfile = '{}/ocr_bert.new.{}/{}_50_ocr.0init.remain0.npy'.format(folder, 300, 'test')\n",
    "itoafile = '{}/ocr_bert.new.{}/{}_ocr.0init.remain0.npy'.format(folder, 300, 'itoa')"
   ]
  },
  {
   "cell_type": "code",
   "execution_count": 34,
   "metadata": {},
   "outputs": [],
   "source": [
    "np.save(trainfile,trX)\n",
    "np.save(valfile,vaX)\n",
    "np.save(testfile,teX)\n",
    "np.save(itoafile,iaX)"
   ]
  }
 ],
 "metadata": {
  "kernelspec": {
   "display_name": "Python 3",
   "language": "python",
   "name": "python3"
  },
  "language_info": {
   "codemirror_mode": {
    "name": "ipython",
    "version": 3
   },
   "file_extension": ".py",
   "mimetype": "text/x-python",
   "name": "python",
   "nbconvert_exporter": "python",
   "pygments_lexer": "ipython3",
   "version": "3.6.8"
  }
 },
 "nbformat": 4,
 "nbformat_minor": 2
}
