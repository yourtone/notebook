{
 "cells": [
  {
   "cell_type": "code",
   "execution_count": 1,
   "metadata": {},
   "outputs": [],
   "source": [
    "import numpy as np\n",
    "from sklearn.decomposition import PCA\n",
    "import os\n",
    "import pickle"
   ]
  },
  {
   "cell_type": "code",
   "execution_count": 2,
   "metadata": {},
   "outputs": [],
   "source": [
    "folder = '/home/lyt/code/vqa-concept/dataTVQA/image-feature/bottomup'"
   ]
  },
  {
   "cell_type": "code",
   "execution_count": 3,
   "metadata": {},
   "outputs": [],
   "source": [
    "trainfile = '{}/ocr_bert.new.{}/{}_50_ocr.npy'.format(folder, 768, 'train')\n",
    "valfile = '{}/ocr_bert.new.{}/{}_50_ocr.npy'.format(folder, 768, 'val')\n",
    "testfile = '{}/ocr_bert.new.{}/{}_50_ocr.npy'.format(folder, 768, 'test')\n",
    "itoafile = '{}/ocr_bert.new.{}/{}_ocr.npy'.format(folder, 768, 'itoa')"
   ]
  },
  {
   "cell_type": "code",
   "execution_count": 4,
   "metadata": {},
   "outputs": [],
   "source": [
    "trainX = np.load(trainfile)\n",
    "valX = np.load(valfile)\n",
    "testX = np.load(testfile)\n",
    "itoaX = np.load(itoafile)"
   ]
  },
  {
   "cell_type": "code",
   "execution_count": 5,
   "metadata": {
    "scrolled": true
   },
   "outputs": [
    {
     "name": "stdout",
     "output_type": "stream",
     "text": [
      "(21953, 50, 768)\n",
      "(3166, 50, 768)\n",
      "(3289, 50, 768)\n",
      "(8205, 768)\n"
     ]
    }
   ],
   "source": [
    "print(trainX.shape)\n",
    "print(valX.shape)\n",
    "print(testX.shape)\n",
    "print(itoaX.shape)"
   ]
  },
  {
   "cell_type": "code",
   "execution_count": 6,
   "metadata": {},
   "outputs": [],
   "source": [
    "trainX = trainX.reshape(-1,768)\n",
    "valX = valX.reshape(-1,768)\n",
    "testX = testX.reshape(-1,768)"
   ]
  },
  {
   "cell_type": "code",
   "execution_count": 7,
   "metadata": {
    "scrolled": false
   },
   "outputs": [
    {
     "name": "stdout",
     "output_type": "stream",
     "text": [
      "(1097650, 768)\n",
      "(158300, 768)\n",
      "(164450, 768)\n",
      "(8205, 768)\n"
     ]
    }
   ],
   "source": [
    "print(trainX.shape)\n",
    "print(valX.shape)\n",
    "print(testX.shape)\n",
    "print(itoaX.shape)"
   ]
  },
  {
   "cell_type": "code",
   "execution_count": 8,
   "metadata": {},
   "outputs": [
    {
     "data": {
      "text/plain": [
       "(1264155, 768)"
      ]
     },
     "execution_count": 8,
     "metadata": {},
     "output_type": "execute_result"
    }
   ],
   "source": [
    "np.concatenate((trainX, valX, itoaX), 0).shape"
   ]
  },
  {
   "cell_type": "code",
   "execution_count": 9,
   "metadata": {},
   "outputs": [],
   "source": [
    "pcafile = '{}/ocr_bert.new.{}/pca.pkl'.format(folder, 300)\n",
    "if os.path.exists(pcafile):\n",
    "    with open(pcafile, 'rb') as f:\n",
    "        pca=pickle.load(f)\n",
    "else:\n",
    "    pca = PCA(n_components=300)\n",
    "    pca.fit(np.concatenate((trainX, valX, itoaX), 0)) # train on Tr; test on Val\n",
    "    #pca.fit(np.concatenate((trainX, valX, testX, itoaX), 0)) # train on Tr+Val; test on Te\n",
    "    with open(pcafile, 'wb') as f:\n",
    "        pickle.dump(pca, f)"
   ]
  },
  {
   "cell_type": "code",
   "execution_count": 10,
   "metadata": {},
   "outputs": [],
   "source": [
    "trX = pca.transform(trainX)\n",
    "vaX = pca.transform(valX)\n",
    "teX = pca.transform(testX)\n",
    "iaX = pca.transform(itoaX)"
   ]
  },
  {
   "cell_type": "code",
   "execution_count": 11,
   "metadata": {
    "scrolled": true
   },
   "outputs": [
    {
     "name": "stdout",
     "output_type": "stream",
     "text": [
      "(1097650, 300)\n",
      "(158300, 300)\n",
      "(164450, 300)\n",
      "(8205, 300)\n"
     ]
    }
   ],
   "source": [
    "print(trX.shape)\n",
    "print(vaX.shape)\n",
    "print(teX.shape)\n",
    "print(iaX.shape)"
   ]
  },
  {
   "cell_type": "code",
   "execution_count": 12,
   "metadata": {},
   "outputs": [],
   "source": [
    "trX = trX.reshape(-1,50,300)\n",
    "vaX = vaX.reshape(-1,50,300)\n",
    "teX = teX.reshape(-1,50,300)"
   ]
  },
  {
   "cell_type": "code",
   "execution_count": 13,
   "metadata": {},
   "outputs": [
    {
     "name": "stdout",
     "output_type": "stream",
     "text": [
      "(21953, 50, 300)\n",
      "(3166, 50, 300)\n",
      "(3289, 50, 300)\n",
      "(8205, 300)\n"
     ]
    }
   ],
   "source": [
    "print(trX.shape)\n",
    "print(vaX.shape)\n",
    "print(teX.shape)\n",
    "print(iaX.shape)"
   ]
  },
  {
   "cell_type": "code",
   "execution_count": 14,
   "metadata": {},
   "outputs": [],
   "source": [
    "trainfile = '{}/ocr_bert.new.{}/{}_50_ocr.npy'.format(folder, 300, 'train')\n",
    "valfile = '{}/ocr_bert.new.{}/{}_50_ocr.npy'.format(folder, 300, 'val')\n",
    "testfile = '{}/ocr_bert.new.{}/{}_50_ocr.npy'.format(folder, 300, 'test')\n",
    "itoafile = '{}/ocr_bert.new.{}/{}_ocr.npy'.format(folder, 300, 'itoa')"
   ]
  },
  {
   "cell_type": "code",
   "execution_count": 15,
   "metadata": {},
   "outputs": [],
   "source": [
    "np.save(trainfile,trX)\n",
    "np.save(valfile,vaX)\n",
    "np.save(testfile,teX)\n",
    "np.save(itoafile,iaX)"
   ]
  }
 ],
 "metadata": {
  "kernelspec": {
   "display_name": "Python 3",
   "language": "python",
   "name": "python3"
  },
  "language_info": {
   "codemirror_mode": {
    "name": "ipython",
    "version": 3
   },
   "file_extension": ".py",
   "mimetype": "text/x-python",
   "name": "python",
   "nbconvert_exporter": "python",
   "pygments_lexer": "ipython3",
   "version": "3.6.8"
  }
 },
 "nbformat": 4,
 "nbformat_minor": 2
}
