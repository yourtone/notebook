{
 "cells": [
  {
   "cell_type": "code",
   "execution_count": 1,
   "metadata": {},
   "outputs": [],
   "source": [
    "import numpy as np\n",
    "from sklearn.decomposition import PCA\n",
    "import os\n",
    "import pickle"
   ]
  },
  {
   "cell_type": "code",
   "execution_count": 2,
   "metadata": {},
   "outputs": [],
   "source": [
    "folder = '/home/lyt/code/vqa-concept/dataTVQA/image-feature/bottomup'\n",
    "sub_folder = 'trval_{}'.format(1024)"
   ]
  },
  {
   "cell_type": "code",
   "execution_count": 3,
   "metadata": {},
   "outputs": [],
   "source": [
    "trainfile = '{}/{}_100_feature.npy'.format(folder, 'train')\n",
    "valfile = '{}/{}_100_feature.npy'.format(folder, 'val')\n",
    "testfile = '{}/{}_100_feature.npy'.format(folder, 'test')"
   ]
  },
  {
   "cell_type": "code",
   "execution_count": 4,
   "metadata": {},
   "outputs": [],
   "source": [
    "trainX = np.load(trainfile)\n",
    "valX = np.load(valfile)\n",
    "testX = np.load(testfile)"
   ]
  },
  {
   "cell_type": "code",
   "execution_count": 5,
   "metadata": {
    "scrolled": true
   },
   "outputs": [
    {
     "name": "stdout",
     "output_type": "stream",
     "text": [
      "(21953, 100, 2048)\n",
      "(3166, 100, 2048)\n",
      "(3289, 100, 2048)\n"
     ]
    }
   ],
   "source": [
    "print(trainX.shape)\n",
    "print(valX.shape)\n",
    "print(testX.shape)"
   ]
  },
  {
   "cell_type": "code",
   "execution_count": 6,
   "metadata": {},
   "outputs": [],
   "source": [
    "trainX = trainX.reshape(-1,2048)\n",
    "valX = valX.reshape(-1,2048)\n",
    "testX = testX.reshape(-1,2048)"
   ]
  },
  {
   "cell_type": "code",
   "execution_count": 7,
   "metadata": {
    "scrolled": false
   },
   "outputs": [
    {
     "name": "stdout",
     "output_type": "stream",
     "text": [
      "(2195300, 2048)\n",
      "(316600, 2048)\n",
      "(328900, 2048)\n"
     ]
    }
   ],
   "source": [
    "print(trainX.shape)\n",
    "print(valX.shape)\n",
    "print(testX.shape)"
   ]
  },
  {
   "cell_type": "code",
   "execution_count": 8,
   "metadata": {},
   "outputs": [
    {
     "data": {
      "text/plain": [
       "(2840800, 2048)"
      ]
     },
     "execution_count": 8,
     "metadata": {},
     "output_type": "execute_result"
    }
   ],
   "source": [
    "np.concatenate((trainX, valX, testX), 0).shape"
   ]
  },
  {
   "cell_type": "code",
   "execution_count": 10,
   "metadata": {},
   "outputs": [],
   "source": [
    "pcafile = '{}/{}/pca.pkl'.format(folder, sub_folder)\n",
    "if os.path.exists(pcafile):\n",
    "    with open(pcafile, 'rb') as f:\n",
    "        pca=pickle.load(f)\n",
    "else:\n",
    "    pca = PCA(n_components=1024)\n",
    "    pca.fit(np.concatenate((trainX, valX), 0)) # train on Tr; test on Val\n",
    "    #pca.fit(np.concatenate((trainX, valX, testX), 0)) # train on Tr+Val; test on Te\n",
    "    with open(pcafile, 'wb') as f:\n",
    "        pickle.dump(pca, f)"
   ]
  },
  {
   "cell_type": "code",
   "execution_count": 11,
   "metadata": {},
   "outputs": [],
   "source": [
    "trX = pca.transform(trainX)\n",
    "vaX = pca.transform(valX)\n",
    "teX = pca.transform(testX)"
   ]
  },
  {
   "cell_type": "code",
   "execution_count": 12,
   "metadata": {
    "scrolled": true
   },
   "outputs": [
    {
     "name": "stdout",
     "output_type": "stream",
     "text": [
      "(2195300, 1024)\n",
      "(316600, 1024)\n",
      "(328900, 1024)\n"
     ]
    }
   ],
   "source": [
    "print(trX.shape)\n",
    "print(vaX.shape)\n",
    "print(teX.shape)"
   ]
  },
  {
   "cell_type": "code",
   "execution_count": 13,
   "metadata": {},
   "outputs": [],
   "source": [
    "trX = trX.reshape(-1,100,1024)\n",
    "vaX = vaX.reshape(-1,100,1024)\n",
    "teX = teX.reshape(-1,100,1024)"
   ]
  },
  {
   "cell_type": "code",
   "execution_count": 14,
   "metadata": {},
   "outputs": [
    {
     "name": "stdout",
     "output_type": "stream",
     "text": [
      "(21953, 100, 1024)\n",
      "(3166, 100, 1024)\n",
      "(3289, 100, 1024)\n"
     ]
    }
   ],
   "source": [
    "print(trX.shape)\n",
    "print(vaX.shape)\n",
    "print(teX.shape)"
   ]
  },
  {
   "cell_type": "code",
   "execution_count": 17,
   "metadata": {
    "scrolled": true
   },
   "outputs": [],
   "source": [
    "trainfile = '{}/{}/{}_100_feature.npy'.format(folder, sub_folder, 'train')\n",
    "valfile = '{}/{}/{}_100_feature.npy'.format(folder, sub_folder, 'val')\n",
    "testfile = '{}/{}/{}_100_feature.npy'.format(folder, sub_folder, 'test')"
   ]
  },
  {
   "cell_type": "code",
   "execution_count": 18,
   "metadata": {},
   "outputs": [],
   "source": [
    "np.save(trainfile,trX)\n",
    "np.save(valfile,vaX)\n",
    "np.save(testfile,teX)"
   ]
  }
 ],
 "metadata": {
  "kernelspec": {
   "display_name": "Python 3",
   "language": "python",
   "name": "python3"
  },
  "language_info": {
   "codemirror_mode": {
    "name": "ipython",
    "version": 3
   },
   "file_extension": ".py",
   "mimetype": "text/x-python",
   "name": "python",
   "nbconvert_exporter": "python",
   "pygments_lexer": "ipython3",
   "version": "3.6.8"
  }
 },
 "nbformat": 4,
 "nbformat_minor": 2
}
