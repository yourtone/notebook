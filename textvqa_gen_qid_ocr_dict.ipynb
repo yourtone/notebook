{
 "cells": [
  {
   "cell_type": "code",
   "execution_count": 1,
   "metadata": {},
   "outputs": [],
   "source": [
    "import json\n",
    "import numpy as np\n",
    "import re"
   ]
  },
  {
   "cell_type": "code",
   "execution_count": 2,
   "metadata": {},
   "outputs": [],
   "source": [
    "root_folder = '/home/lyt/code/concept_vqa'\n",
    "data_folder = '{}/dataTVQA'.format(root_folder)\n",
    "tvqa_folder = '/home/data3/lyt/TextVQA'"
   ]
  },
  {
   "cell_type": "code",
   "execution_count": 3,
   "metadata": {},
   "outputs": [],
   "source": [
    "#======================================="
   ]
  },
  {
   "cell_type": "code",
   "execution_count": 4,
   "metadata": {},
   "outputs": [],
   "source": [
    "norm_text = True"
   ]
  },
  {
   "cell_type": "code",
   "execution_count": 5,
   "metadata": {},
   "outputs": [
    {
     "name": "stdout",
     "output_type": "stream",
     "text": [
      "dict_keys(['dataset_type', 'dataset_name', 'dataset_version', 'data'])\n"
     ]
    }
   ],
   "source": [
    "split_name = 'val'\n",
    "jsdata = json.load(open('{}/TextVQA_0.5_{}.json'.format(tvqa_folder, split_name),'r'))\n",
    "print(jsdata.keys())"
   ]
  },
  {
   "cell_type": "code",
   "execution_count": 6,
   "metadata": {},
   "outputs": [
    {
     "name": "stdout",
     "output_type": "stream",
     "text": [
      "5000 <class 'list'>\n"
     ]
    }
   ],
   "source": [
    "data = jsdata['data']\n",
    "print(len(data),type(data))"
   ]
  },
  {
   "cell_type": "code",
   "execution_count": 7,
   "metadata": {},
   "outputs": [],
   "source": [
    "#------save qid:ocr dict------"
   ]
  },
  {
   "cell_type": "code",
   "execution_count": 8,
   "metadata": {},
   "outputs": [],
   "source": [
    "# borrow from vqaEval.py\n",
    "m_contractions = {\n",
    "    \"aint\": \"ain't\", \"arent\": \"aren't\", \"cant\": \"can't\", \"couldve\": \"could've\",\n",
    "    \"couldnt\": \"couldn't\", \"couldn'tve\": \"couldn't've\",\n",
    "    \"couldnt've\": \"couldn't've\", \"didnt\": \"didn't\", \"doesnt\": \"doesn't\",\n",
    "    \"dont\": \"don't\", \"hadnt\": \"hadn't\", \"hadnt've\": \"hadn't've\",\n",
    "    \"hadn'tve\": \"hadn't've\", \"hasnt\": \"hasn't\", \"havent\": \"haven't\",\n",
    "    \"hed\": \"he'd\", \"hed've\": \"he'd've\", \"he'dve\": \"he'd've\", \"hes\": \"he's\",\n",
    "    \"howd\": \"how'd\", \"howll\": \"how'll\", \"hows\": \"how's\", \"Id've\": \"I'd've\",\n",
    "    \"I'dve\": \"I'd've\", \"Im\": \"I'm\", \"Ive\": \"I've\", \"isnt\": \"isn't\",\n",
    "    \"itd\": \"it'd\", \"itd've\": \"it'd've\", \"it'dve\": \"it'd've\", \"itll\": \"it'll\",\n",
    "    \"let's\": \"let's\", \"maam\": \"ma'am\", \"mightnt\": \"mightn't\",\n",
    "    \"mightnt've\": \"mightn't've\", \"mightn'tve\": \"mightn't've\",\n",
    "    \"mightve\": \"might've\", \"mustnt\": \"mustn't\", \"mustve\": \"must've\",\n",
    "    \"neednt\": \"needn't\", \"notve\": \"not've\", \"oclock\": \"o'clock\",\n",
    "    \"oughtnt\": \"oughtn't\", \"ow's'at\": \"'ow's'at\", \"'ows'at\": \"'ow's'at\",\n",
    "    \"'ow'sat\": \"'ow's'at\", \"shant\": \"shan't\", \"shed've\": \"she'd've\",\n",
    "    \"she'dve\": \"she'd've\", \"she's\": \"she's\", \"shouldve\": \"should've\",\n",
    "    \"shouldnt\": \"shouldn't\", \"shouldnt've\": \"shouldn't've\",\n",
    "    \"shouldn'tve\": \"shouldn't've\", \"somebody'd\": \"somebodyd\",\n",
    "    \"somebodyd've\": \"somebody'd've\", \"somebody'dve\": \"somebody'd've\",\n",
    "    \"somebodyll\": \"somebody'll\", \"somebodys\": \"somebody's\",\n",
    "    \"someoned\": \"someone'd\", \"someoned've\": \"someone'd've\",\n",
    "    \"someone'dve\": \"someone'd've\", \"someonell\": \"someone'll\",\n",
    "    \"someones\": \"someone's\", \"somethingd\": \"something'd\",\n",
    "    \"somethingd've\": \"something'd've\", \"something'dve\": \"something'd've\",\n",
    "    \"somethingll\": \"something'll\", \"thats\": \"that's\", \"thered\": \"there'd\",\n",
    "    \"thered've\": \"there'd've\", \"there'dve\": \"there'd've\",\n",
    "    \"therere\": \"there're\", \"theres\": \"there's\", \"theyd\": \"they'd\",\n",
    "    \"theyd've\": \"they'd've\", \"they'dve\": \"they'd've\", \"theyll\": \"they'll\",\n",
    "    \"theyre\": \"they're\", \"theyve\": \"they've\", \"twas\": \"'twas\",\n",
    "    \"wasnt\": \"wasn't\", \"wed've\": \"we'd've\", \"we'dve\": \"we'd've\",\n",
    "    \"weve\": \"we've\", \"werent\": \"weren't\", \"whatll\": \"what'll\",\n",
    "    \"whatre\": \"what're\", \"whats\": \"what's\", \"whatve\": \"what've\",\n",
    "    \"whens\": \"when's\", \"whered\": \"where'd\", \"wheres\": \"where's\",\n",
    "    \"whereve\": \"where've\", \"whod\": \"who'd\", \"whod've\": \"who'd've\",\n",
    "    \"who'dve\": \"who'd've\", \"wholl\": \"who'll\", \"whos\": \"who's\",\n",
    "    \"whove\": \"who've\", \"whyll\": \"why'll\", \"whyre\": \"why're\", \"whys\": \"why's\",\n",
    "    \"wont\": \"won't\", \"wouldve\": \"would've\", \"wouldnt\": \"wouldn't\",\n",
    "    \"wouldnt've\": \"wouldn't've\", \"wouldn'tve\": \"wouldn't've\",\n",
    "    \"yall\": \"y'all\", \"yall'll\": \"y'all'll\", \"y'allll\": \"y'all'll\",\n",
    "    \"yall'd've\": \"y'all'd've\", \"y'alld've\": \"y'all'd've\",\n",
    "    \"y'all'dve\": \"y'all'd've\", \"youd\": \"you'd\", \"youd've\": \"you'd've\",\n",
    "    \"you'dve\": \"you'd've\", \"youll\": \"you'll\", \"youre\": \"you're\",\n",
    "    \"youve\": \"you've\"}\n",
    "m_manual_map = {'none': '0', 'zero': '0', 'one': '1', 'two': '2', 'three': '3',\n",
    "                'four': '4', 'five': '5', 'six': '6', 'seven': '7',\n",
    "                'eight': '8', 'nine': '9', 'ten': '10'}\n",
    "m_articles = ['a', 'an', 'the']\n",
    "m_period_strip = re.compile(\"(?!<=\\d)(\\.)(?!\\d)\")\n",
    "m_comma_strip = re.compile(\"(\\d)(\\,)(\\d)\")\n",
    "m_punct = [';', r\"/\", '[', ']', '\"', '{', '}', '(', ')', '=', '+',\n",
    "           '\\\\', '_', '-', '>', '<', '@', '`', ',', '?', '!']\n",
    "\n",
    "def process_punct(in_text):\n",
    "    out_text = in_text\n",
    "    for p in m_punct:\n",
    "        if (p + ' ' in in_text or ' ' + p in in_text\n",
    "                or re.search(m_comma_strip, in_text) != None):\n",
    "            out_text = out_text.replace(p, '')\n",
    "        else:\n",
    "            out_text = out_text.replace(p, ' ')\n",
    "    out_text = m_period_strip.sub(\"\", out_text, re.UNICODE)\n",
    "    return out_text\n",
    "\n",
    "def process_digit_article(in_text):\n",
    "    out_text = []\n",
    "    for word in in_text.lower().split():\n",
    "        if word not in m_articles:\n",
    "            word = m_manual_map.setdefault(word, word)\n",
    "            word = m_contractions.setdefault(word, word)\n",
    "            out_text.append(word)\n",
    "    return ' '.join(out_text)\n",
    "\n",
    "def normText(text):\n",
    "    text = process_punct(text)\n",
    "    text = process_digit_article(text)\n",
    "    return text\n",
    "\n",
    "def stripLower(text):\n",
    "    text = text.replace('\\n', ' ').replace('\\t', ' ').strip().lower()\n",
    "    return text"
   ]
  },
  {
   "cell_type": "code",
   "execution_count": 9,
   "metadata": {},
   "outputs": [
    {
     "data": {
      "text/plain": [
       "5000"
      ]
     },
     "execution_count": 9,
     "metadata": {},
     "output_type": "execute_result"
    }
   ],
   "source": [
    "qid_ocr = {}\n",
    "for pair in data:\n",
    "    qid = pair['question_id']\n",
    "    if qid not in qid_ocr:\n",
    "        all_ocr = [stripLower(ocr) for ocr in pair['ocr_tokens']]\n",
    "        if norm_text:\n",
    "            all_ocr = [normText(ocr) for ocr in all_ocr]\n",
    "        qid_ocr[qid] = [ocr for ocr in all_ocr if ocr != '']\n",
    "json.dump(qid_ocr, open('{}/qid_ocr_{}.json'.format(data_folder, split_name),'w'))\n",
    "len(qid_ocr)"
   ]
  },
  {
   "cell_type": "code",
   "execution_count": 10,
   "metadata": {},
   "outputs": [],
   "source": [
    "# qid_ocr[39602]"
   ]
  }
 ],
 "metadata": {
  "kernelspec": {
   "display_name": "Python 3",
   "language": "python",
   "name": "python3"
  },
  "language_info": {
   "codemirror_mode": {
    "name": "ipython",
    "version": 3
   },
   "file_extension": ".py",
   "mimetype": "text/x-python",
   "name": "python",
   "nbconvert_exporter": "python",
   "pygments_lexer": "ipython3",
   "version": "3.6.8"
  }
 },
 "nbformat": 4,
 "nbformat_minor": 2
}
