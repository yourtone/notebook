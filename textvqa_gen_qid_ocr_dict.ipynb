{
 "cells": [
  {
   "cell_type": "code",
   "execution_count": 1,
   "metadata": {},
   "outputs": [],
   "source": [
    "import json\n",
    "import numpy as np"
   ]
  },
  {
   "cell_type": "code",
   "execution_count": 2,
   "metadata": {},
   "outputs": [],
   "source": [
    "root_folder = '/home/lyt/code/concept_vqa'\n",
    "data_folder = '{}/dataTVQA'.format(root_folder)\n",
    "tvqa_folder = '/home/data3/lyt/TextVQA'"
   ]
  },
  {
   "cell_type": "code",
   "execution_count": 3,
   "metadata": {},
   "outputs": [],
   "source": [
    "#======================================="
   ]
  },
  {
   "cell_type": "code",
   "execution_count": 4,
   "metadata": {},
   "outputs": [
    {
     "name": "stdout",
     "output_type": "stream",
     "text": [
      "dict_keys(['dataset_type', 'dataset_name', 'dataset_version', 'data'])\n"
     ]
    }
   ],
   "source": [
    "split_name = 'test'\n",
    "jsdata = json.load(open('{}/TextVQA_0.5_{}.json'.format(tvqa_folder, split_name),'r'))\n",
    "print(jsdata.keys())"
   ]
  },
  {
   "cell_type": "code",
   "execution_count": 5,
   "metadata": {},
   "outputs": [
    {
     "name": "stdout",
     "output_type": "stream",
     "text": [
      "dataset_type: test\n",
      "dataset_name: textvqa\n",
      "dataset_version: 0.5\n"
     ]
    }
   ],
   "source": [
    "for k in jsdata.keys():\n",
    "    if k != 'data':\n",
    "        print('{}: {}'.format(k,jsdata[k]))"
   ]
  },
  {
   "cell_type": "code",
   "execution_count": 6,
   "metadata": {},
   "outputs": [
    {
     "name": "stdout",
     "output_type": "stream",
     "text": [
      "5734 <class 'list'>\n"
     ]
    }
   ],
   "source": [
    "data = jsdata['data']\n",
    "print(len(data),type(data))"
   ]
  },
  {
   "cell_type": "code",
   "execution_count": 7,
   "metadata": {},
   "outputs": [
    {
     "data": {
      "text/plain": [
       "dict_keys(['question', 'image_id', 'image_classes', 'flickr_original_url', 'flickr_300k_url', 'image_width', 'image_height', 'ocr_tokens', 'ocr_info', 'question_tokens', 'question_id', 'set_name'])"
      ]
     },
     "execution_count": 7,
     "metadata": {},
     "output_type": "execute_result"
    }
   ],
   "source": [
    "pair = data[3]\n",
    "pair.keys()"
   ]
  },
  {
   "cell_type": "code",
   "execution_count": 8,
   "metadata": {},
   "outputs": [
    {
     "name": "stdout",
     "output_type": "stream",
     "text": [
      "question: who makes the phone?\n",
      "image_id: a644c4c46d7c0b0f\n",
      "image_classes: ['Laptop', 'Mobile phone']\n",
      "flickr_original_url: https://c8.staticflickr.com/3/2490/4082192766_947a9ba3f8_o.jpg\n",
      "flickr_300k_url: https://c2.staticflickr.com/3/2490/4082192766_54d583035d_z.jpg\n",
      "image_width: 1024\n",
      "image_height: 768\n",
      "ocr_tokens: ['MOTOROLA', 'ווון', '김']\n",
      "question_tokens: ['who', 'makes', 'the', 'phone']\n",
      "question_id: 39605\n",
      "set_name: test\n"
     ]
    }
   ],
   "source": [
    "for k in pair.keys():\n",
    "    if k != 'ocr_info':\n",
    "        print('{}: {}'.format(k,pair[k]))"
   ]
  },
  {
   "cell_type": "code",
   "execution_count": 9,
   "metadata": {},
   "outputs": [],
   "source": [
    "#------save im_id:ocr_information------"
   ]
  },
  {
   "cell_type": "code",
   "execution_count": 10,
   "metadata": {},
   "outputs": [
    {
     "data": {
      "text/plain": [
       "5734"
      ]
     },
     "execution_count": 10,
     "metadata": {},
     "output_type": "execute_result"
    }
   ],
   "source": [
    "qid_ocr = {}\n",
    "for pair in data:\n",
    "    qid = pair['question_id']\n",
    "    if qid not in qid_ocr:\n",
    "        qid_ocr[qid] = [token.lower() for token in pair['ocr_tokens'] if token != '']\n",
    "json.dump(qid_ocr, open('{}/qid_ocr_{}.json'.format(data_folder, split_name),'w'))\n",
    "len(qid_ocr)"
   ]
  },
  {
   "cell_type": "code",
   "execution_count": 11,
   "metadata": {},
   "outputs": [
    {
     "data": {
      "text/plain": [
       "['nokia',\n",
       " 'e71',\n",
       " 'noperator',\n",
       " '3006.2000',\n",
       " '12)',\n",
       " 'lnร',\n",
       " 'busanes',\n",
       " 'report',\n",
       " 'મ.mal()',\n",
       " 'eeling',\n",
       " 'network',\n",
       " 'fวอed',\n",
       " '*4ে',\n",
       " '()']"
      ]
     },
     "execution_count": 11,
     "metadata": {},
     "output_type": "execute_result"
    }
   ],
   "source": [
    "qid_ocr[39602]"
   ]
  }
 ],
 "metadata": {
  "kernelspec": {
   "display_name": "Python 3",
   "language": "python",
   "name": "python3"
  },
  "language_info": {
   "codemirror_mode": {
    "name": "ipython",
    "version": 3
   },
   "file_extension": ".py",
   "mimetype": "text/x-python",
   "name": "python",
   "nbconvert_exporter": "python",
   "pygments_lexer": "ipython3",
   "version": "3.6.8"
  }
 },
 "nbformat": 4,
 "nbformat_minor": 2
}
