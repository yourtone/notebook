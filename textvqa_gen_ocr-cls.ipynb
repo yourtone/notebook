{
 "cells": [
  {
   "cell_type": "code",
   "execution_count": 1,
   "metadata": {},
   "outputs": [],
   "source": [
    "import numpy as np"
   ]
  },
  {
   "cell_type": "code",
   "execution_count": 2,
   "metadata": {},
   "outputs": [],
   "source": [
    "root_folder = '/home/lyt/code/vqa-concept'\n",
    "data_folder = '{}/dataTVQA'.format(root_folder)\n",
    "fea_folder = '{}/image-feature/bottomup'.format(data_folder)"
   ]
  },
  {
   "cell_type": "code",
   "execution_count": 3,
   "metadata": {},
   "outputs": [],
   "source": [
    "trainfile = '{}/ocr_bert.new.{}/trval/{}_50_ocr.0init.npy'.format(fea_folder, 300, 'train')\n",
    "valfile = '{}/ocr_bert.new.{}/trval/{}_50_ocr.0init.npy'.format(fea_folder, 300, 'val')\n",
    "testfile = '{}/ocr_bert.new.{}/trval/{}_50_ocr.0init.npy'.format(fea_folder, 300, 'test')\n",
    "# itoafile = '{}/ocr_bert.new.{}/trval/{}_ocr.0init.npy'.format(fea_folder, 300, 'itoa')"
   ]
  },
  {
   "cell_type": "code",
   "execution_count": 4,
   "metadata": {},
   "outputs": [],
   "source": [
    "tr_ocr = np.load(trainfile)\n",
    "va_ocr = np.load(valfile)\n",
    "te_ocr = np.load(testfile)\n",
    "# itoaX = np.load(itoafile)"
   ]
  },
  {
   "cell_type": "code",
   "execution_count": 5,
   "metadata": {
    "scrolled": true
   },
   "outputs": [
    {
     "name": "stdout",
     "output_type": "stream",
     "text": [
      "(21953, 50, 300)\n",
      "(3166, 50, 300)\n",
      "(3289, 50, 300)\n"
     ]
    }
   ],
   "source": [
    "print(tr_ocr.shape)\n",
    "print(va_ocr.shape)\n",
    "print(te_ocr.shape)\n",
    "# print(itoaX.shape)"
   ]
  },
  {
   "cell_type": "code",
   "execution_count": 6,
   "metadata": {},
   "outputs": [],
   "source": [
    "trainfile = '{}/{}_100_class-emb.npy'.format(fea_folder, 'train')\n",
    "valfile = '{}/{}_100_class-emb.npy'.format(fea_folder, 'val')\n",
    "testfile = '{}/{}_100_class-emb.npy'.format(fea_folder, 'test')"
   ]
  },
  {
   "cell_type": "code",
   "execution_count": 7,
   "metadata": {},
   "outputs": [],
   "source": [
    "tr_cls = np.load(trainfile)\n",
    "va_cls = np.load(valfile)\n",
    "te_cls = np.load(testfile)"
   ]
  },
  {
   "cell_type": "code",
   "execution_count": 8,
   "metadata": {
    "scrolled": false
   },
   "outputs": [
    {
     "name": "stdout",
     "output_type": "stream",
     "text": [
      "(21953, 100, 300)\n",
      "(3166, 100, 300)\n",
      "(3289, 100, 300)\n"
     ]
    }
   ],
   "source": [
    "print(tr_cls.shape)\n",
    "print(va_cls.shape)\n",
    "print(te_cls.shape)"
   ]
  },
  {
   "cell_type": "code",
   "execution_count": 9,
   "metadata": {
    "scrolled": true
   },
   "outputs": [],
   "source": [
    "tr_cls[:,50:100,:] = tr_ocr\n",
    "va_cls[:,50:100,:] = va_ocr\n",
    "te_cls[:,50:100,:] = te_ocr"
   ]
  },
  {
   "cell_type": "code",
   "execution_count": 10,
   "metadata": {},
   "outputs": [],
   "source": [
    "trainfile = '{}/{}_100_ocr-cls.npy'.format(fea_folder, 'train')\n",
    "valfile = '{}/{}_100_ocr-cls.npy'.format(fea_folder, 'val')\n",
    "testfile = '{}/{}_100_ocr-cls.npy'.format(fea_folder, 'test')"
   ]
  },
  {
   "cell_type": "code",
   "execution_count": 11,
   "metadata": {},
   "outputs": [],
   "source": [
    "np.save(trainfile,tr_cls)\n",
    "np.save(valfile,va_cls)\n",
    "np.save(testfile,te_cls)"
   ]
  }
 ],
 "metadata": {
  "kernelspec": {
   "display_name": "Python 3",
   "language": "python",
   "name": "python3"
  },
  "language_info": {
   "codemirror_mode": {
    "name": "ipython",
    "version": 3
   },
   "file_extension": ".py",
   "mimetype": "text/x-python",
   "name": "python",
   "nbconvert_exporter": "python",
   "pygments_lexer": "ipython3",
   "version": "3.6.8"
  }
 },
 "nbformat": 4,
 "nbformat_minor": 2
}
