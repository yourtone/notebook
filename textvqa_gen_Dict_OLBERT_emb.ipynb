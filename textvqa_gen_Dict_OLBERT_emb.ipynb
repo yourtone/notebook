{
 "cells": [
  {
   "cell_type": "code",
   "execution_count": 1,
   "metadata": {},
   "outputs": [],
   "source": [
    "import json\n",
    "import numpy as np\n",
    "from config import cfg, load_vocab, write_vocab_emb"
   ]
  },
  {
   "cell_type": "code",
   "execution_count": 2,
   "metadata": {},
   "outputs": [],
   "source": [
    "from bert_serving.client import BertClient\n",
    "bc = BertClient(ip='10.15.82.136')"
   ]
  },
  {
   "cell_type": "code",
   "execution_count": 3,
   "metadata": {},
   "outputs": [
    {
     "name": "stdout",
     "output_type": "stream",
     "text": [
      "[Load] /home/lyt/code/concept_vqa/dataTVQA/word-embedding/glove.6B.300d.txt ...\n",
      "[Info] Total 400000 vacabs\n"
     ]
    }
   ],
   "source": [
    "emb_file = '{}/word-embedding/glove.6B.300d.txt'.format(cfg.DATA_DIR)\n",
    "print('[Load] {} ...'.format(emb_file))\n",
    "vocab = load_vocab(emb_file)\n",
    "print('[Info] Total {} vacabs'.format(len(vocab)))"
   ]
  },
  {
   "cell_type": "code",
   "execution_count": 4,
   "metadata": {},
   "outputs": [
    {
     "name": "stdout",
     "output_type": "stream",
     "text": [
      "[Info] Dict emb shape: (400000, 768)\n"
     ]
    }
   ],
   "source": [
    "dict_emb = bc.encode(vocab).astype('float32')\n",
    "print('[Info] Dict emb shape: {}'.format(dict_emb.shape))"
   ]
  },
  {
   "cell_type": "code",
   "execution_count": 5,
   "metadata": {},
   "outputs": [
    {
     "name": "stdout",
     "output_type": "stream",
     "text": [
      "[Write] /home/lyt/code/concept_vqa/dataTVQA/word-embedding/bert.768d.txt ...\n"
     ]
    }
   ],
   "source": [
    "emb_file = '{}/word-embedding/bert.{}d.txt'.format(cfg.DATA_DIR, dict_emb.shape[1])\n",
    "print('[Write] {} ...'.format(emb_file))\n",
    "write_vocab_emb(emb_file, vocab, dict_emb)"
   ]
  },
  {
   "cell_type": "code",
   "execution_count": 6,
   "metadata": {},
   "outputs": [],
   "source": [
    "bc.close()"
   ]
  }
 ],
 "metadata": {
  "kernelspec": {
   "display_name": "Python 3",
   "language": "python",
   "name": "python3"
  },
  "language_info": {
   "codemirror_mode": {
    "name": "ipython",
    "version": 3
   },
   "file_extension": ".py",
   "mimetype": "text/x-python",
   "name": "python",
   "nbconvert_exporter": "python",
   "pygments_lexer": "ipython3",
   "version": "3.6.8"
  }
 },
 "nbformat": 4,
 "nbformat_minor": 2
}
