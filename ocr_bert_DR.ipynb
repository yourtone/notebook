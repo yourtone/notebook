{
 "cells": [
  {
   "cell_type": "code",
   "execution_count": 1,
   "metadata": {},
   "outputs": [],
   "source": [
    "import numpy as np\n",
    "from sklearn.decomposition import PCA\n",
    "import os\n",
    "import pickle"
   ]
  },
  {
   "cell_type": "code",
   "execution_count": 2,
   "metadata": {},
   "outputs": [],
   "source": [
    "root_folder = '/home/lyt/code/vqa-concept'\n",
    "data_folder = '{}/dataTVQA'.format(root_folder)\n",
    "fea_folder = '{}/image-feature/bottomup'.format(data_folder)"
   ]
  },
  {
   "cell_type": "code",
   "execution_count": 3,
   "metadata": {},
   "outputs": [],
   "source": [
    "#split = 'trval' # train on Tr; test on Val\n",
    "split = 'trvalte' # train on Tr+Val; test on Te\n",
    "\n",
    "#suffix = '' # ocr_bert_DR\n",
    "#suffix = '.0init' # ocr_bert_DR.0init\n",
    "#suffix = '.clean.0init' # ocr_bert_DR.clean.0init\n",
    "suffix = '.assemble.0init'"
   ]
  },
  {
   "cell_type": "code",
   "execution_count": 4,
   "metadata": {},
   "outputs": [],
   "source": [
    "emb_size = 768\n",
    "trainfile = '{}/ocr_bert.new.{}/{}_50_ocr{}.npy'.format(fea_folder, emb_size, 'train', suffix)\n",
    "valfile = '{}/ocr_bert.new.{}/{}_50_ocr{}.npy'.format(fea_folder, emb_size, 'val', suffix)\n",
    "testfile = '{}/ocr_bert.new.{}/{}_50_ocr{}.npy'.format(fea_folder, emb_size, 'test', suffix)\n",
    "itoafile = '{}/ocr_bert.new.{}/{}/{}_emb.npy'.format(fea_folder, emb_size, split, 'itoa')"
   ]
  },
  {
   "cell_type": "code",
   "execution_count": 5,
   "metadata": {},
   "outputs": [],
   "source": [
    "trainX = np.load(trainfile)\n",
    "valX = np.load(valfile)\n",
    "testX = np.load(testfile)\n",
    "itoaX = np.load(itoafile)"
   ]
  },
  {
   "cell_type": "code",
   "execution_count": 6,
   "metadata": {
    "scrolled": true
   },
   "outputs": [
    {
     "name": "stdout",
     "output_type": "stream",
     "text": [
      "(21953, 50, 768)\n",
      "(3166, 50, 768)\n",
      "(3289, 50, 768)\n",
      "(9452, 768)\n"
     ]
    }
   ],
   "source": [
    "print(trainX.shape)\n",
    "print(valX.shape)\n",
    "print(testX.shape)\n",
    "print(itoaX.shape)"
   ]
  },
  {
   "cell_type": "code",
   "execution_count": 7,
   "metadata": {},
   "outputs": [],
   "source": [
    "trainX = trainX.reshape(-1,emb_size)\n",
    "valX = valX.reshape(-1,emb_size)\n",
    "testX = testX.reshape(-1,emb_size)"
   ]
  },
  {
   "cell_type": "code",
   "execution_count": 8,
   "metadata": {
    "scrolled": false
   },
   "outputs": [
    {
     "name": "stdout",
     "output_type": "stream",
     "text": [
      "(1097650, 768)\n",
      "(158300, 768)\n",
      "(164450, 768)\n",
      "(9452, 768)\n"
     ]
    }
   ],
   "source": [
    "print(trainX.shape)\n",
    "print(valX.shape)\n",
    "print(testX.shape)\n",
    "print(itoaX.shape)"
   ]
  },
  {
   "cell_type": "code",
   "execution_count": 9,
   "metadata": {},
   "outputs": [
    {
     "name": "stdout",
     "output_type": "stream",
     "text": [
      "(1429852, 768)\n"
     ]
    }
   ],
   "source": [
    "if split == 'trval':\n",
    "    X = np.concatenate((trainX, valX, itoaX), 0)\n",
    "elif split == 'trvalte':\n",
    "    X = np.concatenate((trainX, valX, testX, itoaX), 0)\n",
    "print(X.shape)"
   ]
  },
  {
   "cell_type": "code",
   "execution_count": 10,
   "metadata": {},
   "outputs": [],
   "source": [
    "emb_size = 300\n",
    "pcafile = '{}/ocr_bert.new.{}/{}/pca{}.pkl'.format(fea_folder, emb_size, split, suffix)\n",
    "if os.path.exists(pcafile):\n",
    "    with open(pcafile, 'rb') as f:\n",
    "        pca=pickle.load(f)\n",
    "else:\n",
    "    pca = PCA(n_components=emb_size)\n",
    "    pca.fit(X)\n",
    "    with open(pcafile, 'wb') as f:\n",
    "        pickle.dump(pca, f)"
   ]
  },
  {
   "cell_type": "code",
   "execution_count": 11,
   "metadata": {},
   "outputs": [],
   "source": [
    "trX = pca.transform(trainX)\n",
    "vaX = pca.transform(valX)\n",
    "teX = pca.transform(testX)\n",
    "iaX = pca.transform(itoaX)"
   ]
  },
  {
   "cell_type": "code",
   "execution_count": 12,
   "metadata": {
    "scrolled": true
   },
   "outputs": [
    {
     "name": "stdout",
     "output_type": "stream",
     "text": [
      "(1097650, 300)\n",
      "(158300, 300)\n",
      "(164450, 300)\n",
      "(9452, 300)\n"
     ]
    }
   ],
   "source": [
    "print(trX.shape)\n",
    "print(vaX.shape)\n",
    "print(teX.shape)\n",
    "print(iaX.shape)"
   ]
  },
  {
   "cell_type": "code",
   "execution_count": 13,
   "metadata": {},
   "outputs": [],
   "source": [
    "trX = trX.reshape(-1,50,emb_size)\n",
    "vaX = vaX.reshape(-1,50,emb_size)\n",
    "teX = teX.reshape(-1,50,emb_size)"
   ]
  },
  {
   "cell_type": "code",
   "execution_count": 14,
   "metadata": {},
   "outputs": [
    {
     "name": "stdout",
     "output_type": "stream",
     "text": [
      "(21953, 50, 300)\n",
      "(3166, 50, 300)\n",
      "(3289, 50, 300)\n",
      "(9452, 300)\n"
     ]
    }
   ],
   "source": [
    "print(trX.shape)\n",
    "print(vaX.shape)\n",
    "print(teX.shape)\n",
    "print(iaX.shape)"
   ]
  },
  {
   "cell_type": "code",
   "execution_count": 15,
   "metadata": {},
   "outputs": [],
   "source": [
    "trainfile = '{}/ocr_bert.new.{}/{}/{}_50_ocr{}.npy'.format(fea_folder, emb_size, split, 'train', suffix)\n",
    "valfile = '{}/ocr_bert.new.{}/{}/{}_50_ocr{}.npy'.format(fea_folder, emb_size, split, 'val', suffix)\n",
    "testfile = '{}/ocr_bert.new.{}/{}/{}_50_ocr{}.npy'.format(fea_folder, emb_size, split, 'test', suffix)\n",
    "itoafile = '{}/ocr_bert.new.{}/{}/{}_emb{}.npy'.format(fea_folder, emb_size, split, 'itoa', suffix)"
   ]
  },
  {
   "cell_type": "code",
   "execution_count": 16,
   "metadata": {},
   "outputs": [],
   "source": [
    "np.save(trainfile,trX)\n",
    "np.save(valfile,vaX)\n",
    "np.save(testfile,teX)\n",
    "np.save(itoafile,iaX)"
   ]
  }
 ],
 "metadata": {
  "kernelspec": {
   "display_name": "Python 3",
   "language": "python",
   "name": "python3"
  },
  "language_info": {
   "codemirror_mode": {
    "name": "ipython",
    "version": 3
   },
   "file_extension": ".py",
   "mimetype": "text/x-python",
   "name": "python",
   "nbconvert_exporter": "python",
   "pygments_lexer": "ipython3",
   "version": "3.6.8"
  }
 },
 "nbformat": 4,
 "nbformat_minor": 2
}
