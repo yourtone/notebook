{
 "cells": [
  {
   "cell_type": "code",
   "execution_count": 1,
   "metadata": {},
   "outputs": [],
   "source": [
    "import h5py"
   ]
  },
  {
   "cell_type": "code",
   "execution_count": 2,
   "metadata": {},
   "outputs": [
    {
     "name": "stdout",
     "output_type": "stream",
     "text": [
      "<KeysViewHDF5 ['ans', 'img_pos', 'que', 'que_id']>\n"
     ]
    }
   ],
   "source": [
    "root_folder = '/home/lyt/code/vqa-concept'\n",
    "data_folder = '{}/dataTVQA'.format(root_folder)\n",
    "datao = h5py.File('{}/trval/data.h5'.format(data_folder), 'r')['/train']\n",
    "datan = h5py.File('{}/data.h5'.format(data_folder), 'r')['/train']\n",
    "print(datao.keys())"
   ]
  },
  {
   "cell_type": "code",
   "execution_count": 3,
   "metadata": {},
   "outputs": [],
   "source": [
    "a = datao['img_pos'][()]-datan['img_pos'][()]\n",
    "b = datao['que'][()]-datan['que'][()]\n",
    "c = datao['que_id'][()]-datan['que_id'][()]\n",
    "d = datao['ans'][()]-datan['ans'][()]"
   ]
  },
  {
   "cell_type": "code",
   "execution_count": 4,
   "metadata": {},
   "outputs": [
    {
     "name": "stdout",
     "output_type": "stream",
     "text": [
      "(34602,)\n",
      "(34602, 14)\n",
      "(34602,)\n",
      "(34602, 8205)\n"
     ]
    }
   ],
   "source": [
    "print(a.shape)\n",
    "print(b.shape)\n",
    "print(c.shape)\n",
    "print(d.shape)"
   ]
  },
  {
   "cell_type": "code",
   "execution_count": 5,
   "metadata": {},
   "outputs": [
    {
     "name": "stdout",
     "output_type": "stream",
     "text": [
      "0\n",
      "[0 0 0 0 0 0 0 0 0 0 0 0 0 0]\n",
      "0\n",
      "0.0\n"
     ]
    }
   ],
   "source": [
    "print(sum(abs(a)))\n",
    "print(sum(abs(b)))\n",
    "print(sum(abs(c)))\n",
    "print(sum(sum(abs(d))))"
   ]
  }
 ],
 "metadata": {
  "kernelspec": {
   "display_name": "Python 3",
   "language": "python",
   "name": "python3"
  },
  "language_info": {
   "codemirror_mode": {
    "name": "ipython",
    "version": 3
   },
   "file_extension": ".py",
   "mimetype": "text/x-python",
   "name": "python",
   "nbconvert_exporter": "python",
   "pygments_lexer": "ipython3",
   "version": "3.6.8"
  }
 },
 "nbformat": 4,
 "nbformat_minor": 2
}
