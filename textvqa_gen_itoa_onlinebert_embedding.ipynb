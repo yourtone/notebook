{
 "cells": [
  {
   "cell_type": "code",
   "execution_count": 1,
   "metadata": {},
   "outputs": [],
   "source": [
    "import json\n",
    "import numpy as np"
   ]
  },
  {
   "cell_type": "code",
   "execution_count": 2,
   "metadata": {},
   "outputs": [],
   "source": [
    "import progressbar\n",
    "from bert_serving.client import BertClient\n",
    "bc = BertClient(ip='10.15.82.136')"
   ]
  },
  {
   "cell_type": "code",
   "execution_count": 3,
   "metadata": {},
   "outputs": [],
   "source": [
    "root_folder = '/home/lyt/code/vqa-concept'\n",
    "data_folder = '{}/dataTVQA'.format(root_folder)\n",
    "fea_folder = '{}/image-feature/bottomup'.format(data_folder)\n",
    "emb_size = 768\n",
    "ocr_num = 50"
   ]
  },
  {
   "cell_type": "code",
   "execution_count": 4,
   "metadata": {},
   "outputs": [
    {
     "name": "stdout",
     "output_type": "stream",
     "text": [
      "dict_keys(['itoa', 'itow'])\n",
      "index:(20), content:()\n"
     ]
    }
   ],
   "source": [
    "jsdict = json.load(open('{}/data.json'.format(data_folder),'r'))\n",
    "print(jsdict.keys())\n",
    "itoa = jsdict['itoa']\n",
    "removeIdx = -1\n",
    "for i,a in enumerate(itoa):\n",
    "    if a == '':\n",
    "        print('index:({}), content:({})'.format(i,a))\n",
    "        itoa[i] = '<blank>'\n",
    "        removeIdx = i"
   ]
  },
  {
   "cell_type": "code",
   "execution_count": 5,
   "metadata": {
    "scrolled": false
   },
   "outputs": [
    {
     "name": "stdout",
     "output_type": "stream",
     "text": [
      "(9452, 768)\n"
     ]
    }
   ],
   "source": [
    "ocr_emb = np.random.randn(len(itoa), emb_size).astype('float32')\n",
    "print(ocr_emb.shape)\n",
    "ocr_emb[0:len(itoa)] = bc.encode(itoa)"
   ]
  },
  {
   "cell_type": "code",
   "execution_count": 6,
   "metadata": {},
   "outputs": [
    {
     "name": "stdout",
     "output_type": "stream",
     "text": [
      "(9452, 768)\n"
     ]
    }
   ],
   "source": [
    "print(ocr_emb.shape)\n",
    "if removeIdx >= 0:\n",
    "    ocr_emb[removeIdx] = np.random.randn(emb_size).astype('float32')"
   ]
  },
  {
   "cell_type": "code",
   "execution_count": 7,
   "metadata": {},
   "outputs": [],
   "source": [
    "np.save('{}/ocr_bert.new.{}/itoa_emb.npy'.format(fea_folder, emb_size), ocr_emb)"
   ]
  },
  {
   "cell_type": "code",
   "execution_count": 8,
   "metadata": {},
   "outputs": [],
   "source": [
    "bc.close()"
   ]
  }
 ],
 "metadata": {
  "kernelspec": {
   "display_name": "Python 3",
   "language": "python",
   "name": "python3"
  },
  "language_info": {
   "codemirror_mode": {
    "name": "ipython",
    "version": 3
   },
   "file_extension": ".py",
   "mimetype": "text/x-python",
   "name": "python",
   "nbconvert_exporter": "python",
   "pygments_lexer": "ipython3",
   "version": "3.6.8"
  }
 },
 "nbformat": 4,
 "nbformat_minor": 2
}
