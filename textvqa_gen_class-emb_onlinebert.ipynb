{
 "cells": [
  {
   "cell_type": "code",
   "execution_count": 21,
   "metadata": {},
   "outputs": [],
   "source": [
    "import numpy as np\n",
    "import os\n",
    "import pickle"
   ]
  },
  {
   "cell_type": "code",
   "execution_count": 2,
   "metadata": {},
   "outputs": [],
   "source": [
    "import progressbar\n",
    "from bert_serving.client import BertClient\n",
    "bc = BertClient(ip='10.15.82.136')"
   ]
  },
  {
   "cell_type": "code",
   "execution_count": 3,
   "metadata": {},
   "outputs": [],
   "source": [
    "root_folder = '/home/lyt/code/vqa-concept'\n",
    "data_folder = '{}/dataTVQA'.format(root_folder)\n",
    "fea_folder = '{}/image-feature/bottomup'.format(data_folder)"
   ]
  },
  {
   "cell_type": "code",
   "execution_count": 5,
   "metadata": {},
   "outputs": [],
   "source": [
    "with open('{}/objects_vocab.txt'.format(data_folder)) as f:\n",
    "    objects_vocab = f.read().splitlines()\n",
    "objects_vocab = ['__no_objects__'] + objects_vocab"
   ]
  },
  {
   "cell_type": "code",
   "execution_count": 4,
   "metadata": {},
   "outputs": [],
   "source": [
    "emb_size = 768"
   ]
  },
  {
   "cell_type": "code",
   "execution_count": 15,
   "metadata": {},
   "outputs": [
    {
     "name": "stdout",
     "output_type": "stream",
     "text": [
      "(1601, 768)\n"
     ]
    }
   ],
   "source": [
    "obj_emb = np.zeros((len(objects_vocab), emb_size), dtype='float32')\n",
    "fill_cnt = 0\n",
    "for i, line in enumerate(objects_vocab):\n",
    "    synonyms = line.split(',')\n",
    "    curr_embs = bc.encode(synonyms)\n",
    "    obj_emb[i] = np.mean(curr_embs, axis=0)\n",
    "print(obj_emb.shape)"
   ]
  },
  {
   "cell_type": "code",
   "execution_count": 22,
   "metadata": {},
   "outputs": [
    {
     "name": "stdout",
     "output_type": "stream",
     "text": [
      "/home/lyt/code/vqa-concept/dataTVQA/image-feature/bottomup/ocr_bert.new.300/trval/pca.0init.pkl\n",
      "(1601, 300)\n"
     ]
    }
   ],
   "source": [
    "pcafile = '{}/ocr_bert.new.{}/trval/pca.0init.pkl'.format(fea_folder, 300)\n",
    "assert(os.path.exists(pcafile))\n",
    "with open(pcafile, 'rb') as f:\n",
    "    pca=pickle.load(f)\n",
    "obj_emb = pca.transform(obj_emb)\n",
    "print(obj_emb.shape)"
   ]
  },
  {
   "cell_type": "code",
   "execution_count": 24,
   "metadata": {},
   "outputs": [
    {
     "name": "stdout",
     "output_type": "stream",
     "text": [
      "(21953, 100, 1601)\n"
     ]
    }
   ],
   "source": [
    "trainfile = '{}/{}_100_class-prob.npy'.format(fea_folder, 'train')\n",
    "trainX = np.load(trainfile)\n",
    "print(trainX.shape)"
   ]
  },
  {
   "cell_type": "code",
   "execution_count": 25,
   "metadata": {},
   "outputs": [
    {
     "name": "stdout",
     "output_type": "stream",
     "text": [
      "(21953, 100, 300)\n"
     ]
    }
   ],
   "source": [
    "trX = np.dot(trainX,obj_emb)\n",
    "print(trX.shape)"
   ]
  },
  {
   "cell_type": "code",
   "execution_count": 26,
   "metadata": {},
   "outputs": [],
   "source": [
    "trainfile = '{}/{}_100_class-emb.new.npy'.format(fea_folder, 'train')\n",
    "np.save(trainfile,trX)\n",
    "trainX = None\n",
    "trX = None"
   ]
  },
  {
   "cell_type": "code",
   "execution_count": 27,
   "metadata": {},
   "outputs": [
    {
     "name": "stdout",
     "output_type": "stream",
     "text": [
      "(3166, 100, 1601)\n"
     ]
    }
   ],
   "source": [
    "valfile = '{}/{}_100_class-prob.npy'.format(fea_folder, 'val')\n",
    "valX = np.load(valfile)\n",
    "print(valX.shape)"
   ]
  },
  {
   "cell_type": "code",
   "execution_count": 28,
   "metadata": {},
   "outputs": [
    {
     "name": "stdout",
     "output_type": "stream",
     "text": [
      "(3166, 100, 300)\n"
     ]
    }
   ],
   "source": [
    "vaX = np.dot(valX,obj_emb)\n",
    "print(vaX.shape)"
   ]
  },
  {
   "cell_type": "code",
   "execution_count": 29,
   "metadata": {},
   "outputs": [],
   "source": [
    "valfile = '{}/{}_100_class-emb.new.npy'.format(fea_folder, 'val')\n",
    "np.save(valfile,vaX)\n",
    "valX = None\n",
    "vaX = None"
   ]
  },
  {
   "cell_type": "code",
   "execution_count": 30,
   "metadata": {},
   "outputs": [
    {
     "name": "stdout",
     "output_type": "stream",
     "text": [
      "(3289, 100, 1601)\n"
     ]
    }
   ],
   "source": [
    "testfile = '{}/{}_100_class-prob.npy'.format(fea_folder, 'test')\n",
    "testX = np.load(testfile)\n",
    "print(testX.shape)"
   ]
  },
  {
   "cell_type": "code",
   "execution_count": 31,
   "metadata": {},
   "outputs": [
    {
     "name": "stdout",
     "output_type": "stream",
     "text": [
      "(3289, 100, 300)\n"
     ]
    }
   ],
   "source": [
    "teX = np.dot(testX,obj_emb)\n",
    "print(teX.shape)"
   ]
  },
  {
   "cell_type": "code",
   "execution_count": 32,
   "metadata": {},
   "outputs": [],
   "source": [
    "testfile = '{}/{}_100_class-emb.new.npy'.format(fea_folder, 'test')\n",
    "np.save(testfile,teX)"
   ]
  }
 ],
 "metadata": {
  "kernelspec": {
   "display_name": "Python 3",
   "language": "python",
   "name": "python3"
  },
  "language_info": {
   "codemirror_mode": {
    "name": "ipython",
    "version": 3
   },
   "file_extension": ".py",
   "mimetype": "text/x-python",
   "name": "python",
   "nbconvert_exporter": "python",
   "pygments_lexer": "ipython3",
   "version": "3.6.8"
  }
 },
 "nbformat": 4,
 "nbformat_minor": 2
}
